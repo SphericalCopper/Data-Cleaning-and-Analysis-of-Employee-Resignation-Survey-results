{
 "cells": [
  {
   "cell_type": "markdown",
   "metadata": {
    "collapsed": true
   },
   "source": [
    "# Analysis of Employee Exit Survey Responses\n",
    "\n",
    "In this project, I'm a Data Analyst tasked with cleaning and analyzing Employee Exit Survey responses from employees of [Department of Education, Training and Employment](https://en.wikipedia.org/wiki/Department_of_Education_and_Training_(Queensland) (DETE), and the [Technical and Further Education](https://en.wikipedia.org/wiki/TAFE_Queensland) (TAFE) body of the Queensland government in Australia. The DETE exit survey data can be [found here](https://data.gov.au/dataset/ds-qld-fe96ff30-d157-4a81-851d-215f2a0fe26d/details?q=exit%20survey), and the TAFE exist survey data can be [found here](https://data.gov.au/dataset/ds-qld-89970a3b-182b-41ea-aea2-6f9f17b5907e/details?q=exit%20survey).\n",
    "\n",
    "Specifically, we're looking to gain answers to the following questions:\n",
    "- Are employees who only worked for the institutes for a short period of time resigning due to some kind of dissatisfaction? What about employees who have been there longer?\n",
    "- Are younger employees resigning due to some kind of dissatisfaction? What about older employees?\n",
    "\n",
    "We're recquired to combine the results for both surveys to answer the above questions. However, although both used the same survey template, one of them customized some of the answers - something that will introduce some complications into our work.\n",
    "\n",
    "We'll start by reading the datasets into pandas, and then beginning an initial round of exploration."
   ]
  },
  {
   "cell_type": "markdown",
   "metadata": {},
   "source": [
    "## Reading in the Datasets"
   ]
  },
  {
   "cell_type": "code",
   "execution_count": 1,
   "metadata": {
    "collapsed": false
   },
   "outputs": [
    {
     "name": "stdout",
     "output_type": "stream",
     "text": [
      "<class 'pandas.core.frame.DataFrame'>\n",
      "RangeIndex: 822 entries, 0 to 821\n",
      "Data columns (total 56 columns):\n",
      "ID                                     822 non-null int64\n",
      "SeparationType                         822 non-null object\n",
      "Cease Date                             822 non-null object\n",
      "DETE Start Date                        822 non-null object\n",
      "Role Start Date                        822 non-null object\n",
      "Position                               817 non-null object\n",
      "Classification                         455 non-null object\n",
      "Region                                 822 non-null object\n",
      "Business Unit                          126 non-null object\n",
      "Employment Status                      817 non-null object\n",
      "Career move to public sector           822 non-null bool\n",
      "Career move to private sector          822 non-null bool\n",
      "Interpersonal conflicts                822 non-null bool\n",
      "Job dissatisfaction                    822 non-null bool\n",
      "Dissatisfaction with the department    822 non-null bool\n",
      "Physical work environment              822 non-null bool\n",
      "Lack of recognition                    822 non-null bool\n",
      "Lack of job security                   822 non-null bool\n",
      "Work location                          822 non-null bool\n",
      "Employment conditions                  822 non-null bool\n",
      "Maternity/family                       822 non-null bool\n",
      "Relocation                             822 non-null bool\n",
      "Study/Travel                           822 non-null bool\n",
      "Ill Health                             822 non-null bool\n",
      "Traumatic incident                     822 non-null bool\n",
      "Work life balance                      822 non-null bool\n",
      "Workload                               822 non-null bool\n",
      "None of the above                      822 non-null bool\n",
      "Professional Development               808 non-null object\n",
      "Opportunities for promotion            735 non-null object\n",
      "Staff morale                           816 non-null object\n",
      "Workplace issue                        788 non-null object\n",
      "Physical environment                   817 non-null object\n",
      "Worklife balance                       815 non-null object\n",
      "Stress and pressure support            810 non-null object\n",
      "Performance of supervisor              813 non-null object\n",
      "Peer support                           812 non-null object\n",
      "Initiative                             813 non-null object\n",
      "Skills                                 811 non-null object\n",
      "Coach                                  767 non-null object\n",
      "Career Aspirations                     746 non-null object\n",
      "Feedback                               792 non-null object\n",
      "Further PD                             768 non-null object\n",
      "Communication                          814 non-null object\n",
      "My say                                 812 non-null object\n",
      "Information                            816 non-null object\n",
      "Kept informed                          813 non-null object\n",
      "Wellness programs                      766 non-null object\n",
      "Health & Safety                        793 non-null object\n",
      "Gender                                 798 non-null object\n",
      "Age                                    811 non-null object\n",
      "Aboriginal                             16 non-null object\n",
      "Torres Strait                          3 non-null object\n",
      "South Sea                              7 non-null object\n",
      "Disability                             23 non-null object\n",
      "NESB                                   32 non-null object\n",
      "dtypes: bool(18), int64(1), object(37)\n",
      "memory usage: 258.6+ KB\n",
      "None\n",
      "\n",
      "\n",
      "   ID                    SeparationType Cease Date DETE Start Date  \\\n",
      "0   1             Ill Health Retirement    08/2012            1984   \n",
      "1   2  Voluntary Early Retirement (VER)    08/2012      Not Stated   \n",
      "2   3  Voluntary Early Retirement (VER)    05/2012            2011   \n",
      "3   4         Resignation-Other reasons    05/2012            2005   \n",
      "4   5                    Age Retirement    05/2012            1970   \n",
      "\n",
      "  Role Start Date                                      Position  \\\n",
      "0            2004                                Public Servant   \n",
      "1      Not Stated                                Public Servant   \n",
      "2            2011                               Schools Officer   \n",
      "3            2006                                       Teacher   \n",
      "4            1989  Head of Curriculum/Head of Special Education   \n",
      "\n",
      "  Classification              Region                      Business Unit  \\\n",
      "0        A01-A04      Central Office  Corporate Strategy and Peformance   \n",
      "1        AO5-AO7      Central Office  Corporate Strategy and Peformance   \n",
      "2            NaN      Central Office               Education Queensland   \n",
      "3        Primary  Central Queensland                                NaN   \n",
      "4            NaN          South East                                NaN   \n",
      "\n",
      "     Employment Status  Career move to public sector  \\\n",
      "0  Permanent Full-time                          True   \n",
      "1  Permanent Full-time                         False   \n",
      "2  Permanent Full-time                         False   \n",
      "3  Permanent Full-time                         False   \n",
      "4  Permanent Full-time                         False   \n",
      "\n",
      "   Career move to private sector  Interpersonal conflicts  \\\n",
      "0                          False                    False   \n",
      "1                          False                    False   \n",
      "2                          False                    False   \n",
      "3                           True                    False   \n",
      "4                          False                    False   \n",
      "\n",
      "   Job dissatisfaction  Dissatisfaction with the department  \\\n",
      "0                 True                                False   \n",
      "1                False                                False   \n",
      "2                False                                False   \n",
      "3                False                                False   \n",
      "4                False                                False   \n",
      "\n",
      "   Physical work environment  Lack of recognition  Lack of job security  \\\n",
      "0                      False                 True                 False   \n",
      "1                      False                False                 False   \n",
      "2                      False                False                 False   \n",
      "3                      False                False                 False   \n",
      "4                      False                False                 False   \n",
      "\n",
      "   Work location  Employment conditions  Maternity/family  Relocation  \\\n",
      "0          False                  False             False       False   \n",
      "1          False                  False             False       False   \n",
      "2          False                  False             False       False   \n",
      "3          False                  False             False       False   \n",
      "4          False                  False             False       False   \n",
      "\n",
      "   Study/Travel  Ill Health  Traumatic incident  Work life balance  Workload  \\\n",
      "0         False       False               False              False     False   \n",
      "1         False       False               False              False     False   \n",
      "2         False       False               False              False     False   \n",
      "3         False       False               False              False     False   \n",
      "4         False       False               False               True     False   \n",
      "\n",
      "   None of the above Professional Development Opportunities for promotion  \\\n",
      "0               True                        A                           A   \n",
      "1              False                        A                           A   \n",
      "2               True                        N                           N   \n",
      "3              False                        A                           N   \n",
      "4              False                        A                           A   \n",
      "\n",
      "  Staff morale Workplace issue Physical environment Worklife balance  \\\n",
      "0            N               N                    N                A   \n",
      "1            N               N                    N                N   \n",
      "2            N               N                    N                N   \n",
      "3            N               N                    A                A   \n",
      "4            N               N                    D                D   \n",
      "\n",
      "  Stress and pressure support Performance of supervisor Peer support  \\\n",
      "0                           A                         A            A   \n",
      "1                           A                         A            A   \n",
      "2                           N                         N            N   \n",
      "3                           N                         N            A   \n",
      "4                           N                         A            A   \n",
      "\n",
      "  Initiative Skills Coach Career Aspirations Feedback Further PD  \\\n",
      "0          N      N     N                  A        A          A   \n",
      "1          N      N     N                  A        A          A   \n",
      "2          N      N     N                  N        N          N   \n",
      "3          A      A     A                  A        A          A   \n",
      "4          A      A     A                  A       SA         SA   \n",
      "\n",
      "  Communication My say Information Kept informed Wellness programs  \\\n",
      "0             N      A           A             N                 N   \n",
      "1             N      A           A             N                 N   \n",
      "2             A      A           N             N                 N   \n",
      "3             A      A           A             A                 N   \n",
      "4             D      D           A             N                 A   \n",
      "\n",
      "  Health & Safety  Gender          Age Aboriginal Torres Strait South Sea  \\\n",
      "0               N    Male        56-60        NaN           NaN       NaN   \n",
      "1               N    Male        56-60        NaN           NaN       NaN   \n",
      "2               N    Male  61 or older        NaN           NaN       NaN   \n",
      "3               A  Female        36-40        NaN           NaN       NaN   \n",
      "4               M  Female  61 or older        NaN           NaN       NaN   \n",
      "\n",
      "  Disability NESB  \n",
      "0        NaN  Yes  \n",
      "1        NaN  NaN  \n",
      "2        NaN  NaN  \n",
      "3        NaN  NaN  \n",
      "4        NaN  NaN  \n"
     ]
    }
   ],
   "source": [
    "import numpy as np\n",
    "import pandas as pd\n",
    "\n",
    "dete_survey = pd.read_csv('dete_survey.csv')\n",
    "\n",
    "tafe_survey = pd.read_csv('tafe_survey.csv')\n",
    "\n",
    "pd.options.display.max_columns = 150 #(to avoid truncated output)\n",
    "print(dete_survey.info())\n",
    "print('\\n')\n",
    "print(dete_survey.head())"
   ]
  },
  {
   "cell_type": "code",
   "execution_count": 2,
   "metadata": {
    "collapsed": false
   },
   "outputs": [
    {
     "name": "stdout",
     "output_type": "stream",
     "text": [
      "<class 'pandas.core.frame.DataFrame'>\n",
      "RangeIndex: 702 entries, 0 to 701\n",
      "Data columns (total 72 columns):\n",
      "Record ID                                                                                                                                                        702 non-null float64\n",
      "Institute                                                                                                                                                        702 non-null object\n",
      "WorkArea                                                                                                                                                         702 non-null object\n",
      "CESSATION YEAR                                                                                                                                                   695 non-null float64\n",
      "Reason for ceasing employment                                                                                                                                    701 non-null object\n",
      "Contributing Factors. Career Move - Public Sector                                                                                                                437 non-null object\n",
      "Contributing Factors. Career Move - Private Sector                                                                                                               437 non-null object\n",
      "Contributing Factors. Career Move - Self-employment                                                                                                              437 non-null object\n",
      "Contributing Factors. Ill Health                                                                                                                                 437 non-null object\n",
      "Contributing Factors. Maternity/Family                                                                                                                           437 non-null object\n",
      "Contributing Factors. Dissatisfaction                                                                                                                            437 non-null object\n",
      "Contributing Factors. Job Dissatisfaction                                                                                                                        437 non-null object\n",
      "Contributing Factors. Interpersonal Conflict                                                                                                                     437 non-null object\n",
      "Contributing Factors. Study                                                                                                                                      437 non-null object\n",
      "Contributing Factors. Travel                                                                                                                                     437 non-null object\n",
      "Contributing Factors. Other                                                                                                                                      437 non-null object\n",
      "Contributing Factors. NONE                                                                                                                                       437 non-null object\n",
      "Main Factor. Which of these was the main factor for leaving?                                                                                                     113 non-null object\n",
      "InstituteViews. Topic:1. I feel the senior leadership had a clear vision and direction                                                                           608 non-null object\n",
      "InstituteViews. Topic:2. I was given access to skills training to help me do my job better                                                                       613 non-null object\n",
      "InstituteViews. Topic:3. I was given adequate opportunities for personal development                                                                             610 non-null object\n",
      "InstituteViews. Topic:4. I was given adequate opportunities for promotion within %Institute]Q25LBL%                                                              608 non-null object\n",
      "InstituteViews. Topic:5. I felt the salary for the job was right for the responsibilities I had                                                                  615 non-null object\n",
      "InstituteViews. Topic:6. The organisation recognised when staff did good work                                                                                    607 non-null object\n",
      "InstituteViews. Topic:7. Management was generally supportive of me                                                                                               614 non-null object\n",
      "InstituteViews. Topic:8. Management was generally supportive of my team                                                                                          608 non-null object\n",
      "InstituteViews. Topic:9. I was kept informed of the changes in the organisation which would affect me                                                            610 non-null object\n",
      "InstituteViews. Topic:10. Staff morale was positive within the Institute                                                                                         602 non-null object\n",
      "InstituteViews. Topic:11. If I had a workplace issue it was dealt with quickly                                                                                   601 non-null object\n",
      "InstituteViews. Topic:12. If I had a workplace issue it was dealt with efficiently                                                                               597 non-null object\n",
      "InstituteViews. Topic:13. If I had a workplace issue it was dealt with discreetly                                                                                601 non-null object\n",
      "WorkUnitViews. Topic:14. I was satisfied with the quality of the management and supervision within my work unit                                                  609 non-null object\n",
      "WorkUnitViews. Topic:15. I worked well with my colleagues                                                                                                        605 non-null object\n",
      "WorkUnitViews. Topic:16. My job was challenging and interesting                                                                                                  607 non-null object\n",
      "WorkUnitViews. Topic:17. I was encouraged to use my initiative in the course of my work                                                                          610 non-null object\n",
      "WorkUnitViews. Topic:18. I had sufficient contact with other people in my job                                                                                    613 non-null object\n",
      "WorkUnitViews. Topic:19. I was given adequate support and co-operation by my peers to enable me to do my job                                                     609 non-null object\n",
      "WorkUnitViews. Topic:20. I was able to use the full range of my skills in my job                                                                                 609 non-null object\n",
      "WorkUnitViews. Topic:21. I was able to use the full range of my abilities in my job. ; Category:Level of Agreement; Question:YOUR VIEWS ABOUT YOUR WORK UNIT]    608 non-null object\n",
      "WorkUnitViews. Topic:22. I was able to use the full range of my knowledge in my job                                                                              608 non-null object\n",
      "WorkUnitViews. Topic:23. My job provided sufficient variety                                                                                                      611 non-null object\n",
      "WorkUnitViews. Topic:24. I was able to cope with the level of stress and pressure in my job                                                                      610 non-null object\n",
      "WorkUnitViews. Topic:25. My job allowed me to balance the demands of work and family to my satisfaction                                                          611 non-null object\n",
      "WorkUnitViews. Topic:26. My supervisor gave me adequate personal recognition and feedback on my performance                                                      606 non-null object\n",
      "WorkUnitViews. Topic:27. My working environment was satisfactory e.g. sufficient space, good lighting, suitable seating and working area                         610 non-null object\n",
      "WorkUnitViews. Topic:28. I was given the opportunity to mentor and coach others in order for me to pass on my skills and knowledge prior to my cessation date    609 non-null object\n",
      "WorkUnitViews. Topic:29. There was adequate communication between staff in my unit                                                                               603 non-null object\n",
      "WorkUnitViews. Topic:30. Staff morale was positive within my work unit                                                                                           606 non-null object\n",
      "Induction. Did you undertake Workplace Induction?                                                                                                                619 non-null object\n",
      "InductionInfo. Topic:Did you undertake a Corporate Induction?                                                                                                    432 non-null object\n",
      "InductionInfo. Topic:Did you undertake a Institute Induction?                                                                                                    483 non-null object\n",
      "InductionInfo. Topic: Did you undertake Team Induction?                                                                                                          440 non-null object\n",
      "InductionInfo. Face to Face Topic:Did you undertake a Corporate Induction; Category:How it was conducted?                                                        555 non-null object\n",
      "InductionInfo. On-line Topic:Did you undertake a Corporate Induction; Category:How it was conducted?                                                             555 non-null object\n",
      "InductionInfo. Induction Manual Topic:Did you undertake a Corporate Induction?                                                                                   555 non-null object\n",
      "InductionInfo. Face to Face Topic:Did you undertake a Institute Induction?                                                                                       530 non-null object\n",
      "InductionInfo. On-line Topic:Did you undertake a Institute Induction?                                                                                            555 non-null object\n",
      "InductionInfo. Induction Manual Topic:Did you undertake a Institute Induction?                                                                                   553 non-null object\n",
      "InductionInfo. Face to Face Topic: Did you undertake Team Induction; Category?                                                                                   555 non-null object\n",
      "InductionInfo. On-line Topic: Did you undertake Team Induction?process you undertook and how it was conducted.]                                                  555 non-null object\n",
      "InductionInfo. Induction Manual Topic: Did you undertake Team Induction?                                                                                         555 non-null object\n",
      "Workplace. Topic:Did you and your Manager develop a Performance and Professional Development Plan (PPDP)?                                                        608 non-null object\n",
      "Workplace. Topic:Does your workplace promote a work culture free from all forms of unlawful discrimination?                                                      594 non-null object\n",
      "Workplace. Topic:Does your workplace promote and practice the principles of employment equity?                                                                   587 non-null object\n",
      "Workplace. Topic:Does your workplace value the diversity of its employees?                                                                                       586 non-null object\n",
      "Workplace. Topic:Would you recommend the Institute as an employer to others?                                                                                     581 non-null object\n",
      "Gender. What is your Gender?                                                                                                                                     596 non-null object\n",
      "CurrentAge. Current Age                                                                                                                                          596 non-null object\n",
      "Employment Type. Employment Type                                                                                                                                 596 non-null object\n",
      "Classification. Classification                                                                                                                                   596 non-null object\n",
      "LengthofServiceOverall. Overall Length of Service at Institute (in years)                                                                                        596 non-null object\n",
      "LengthofServiceCurrent. Length of Service at current workplace (in years)                                                                                        596 non-null object\n",
      "dtypes: float64(2), object(70)\n",
      "memory usage: 395.0+ KB\n",
      "None\n",
      "\n",
      "\n",
      "      Record ID                              Institute  \\\n",
      "0  6.341330e+17  Southern Queensland Institute of TAFE   \n",
      "1  6.341337e+17            Mount Isa Institute of TAFE   \n",
      "2  6.341388e+17            Mount Isa Institute of TAFE   \n",
      "3  6.341399e+17            Mount Isa Institute of TAFE   \n",
      "4  6.341466e+17  Southern Queensland Institute of TAFE   \n",
      "\n",
      "                   WorkArea  CESSATION YEAR Reason for ceasing employment  \\\n",
      "0  Non-Delivery (corporate)          2010.0              Contract Expired   \n",
      "1  Non-Delivery (corporate)          2010.0                    Retirement   \n",
      "2       Delivery (teaching)          2010.0                    Retirement   \n",
      "3  Non-Delivery (corporate)          2010.0                   Resignation   \n",
      "4       Delivery (teaching)          2010.0                   Resignation   \n",
      "\n",
      "  Contributing Factors. Career Move - Public Sector   \\\n",
      "0                                                NaN   \n",
      "1                                                  -   \n",
      "2                                                  -   \n",
      "3                                                  -   \n",
      "4                                                  -   \n",
      "\n",
      "  Contributing Factors. Career Move - Private Sector   \\\n",
      "0                                                NaN    \n",
      "1                                                  -    \n",
      "2                                                  -    \n",
      "3                                                  -    \n",
      "4                       Career Move - Private Sector    \n",
      "\n",
      "  Contributing Factors. Career Move - Self-employment  \\\n",
      "0                                                NaN    \n",
      "1                                                  -    \n",
      "2                                                  -    \n",
      "3                                                  -    \n",
      "4                                                  -    \n",
      "\n",
      "  Contributing Factors. Ill Health Contributing Factors. Maternity/Family  \\\n",
      "0                              NaN                                    NaN   \n",
      "1                                -                                      -   \n",
      "2                                -                                      -   \n",
      "3                                -                                      -   \n",
      "4                                -                                      -   \n",
      "\n",
      "  Contributing Factors. Dissatisfaction  \\\n",
      "0                                   NaN   \n",
      "1                                     -   \n",
      "2                                     -   \n",
      "3                                     -   \n",
      "4                                     -   \n",
      "\n",
      "  Contributing Factors. Job Dissatisfaction  \\\n",
      "0                                       NaN   \n",
      "1                                         -   \n",
      "2                                         -   \n",
      "3                                         -   \n",
      "4                                         -   \n",
      "\n",
      "  Contributing Factors. Interpersonal Conflict Contributing Factors. Study  \\\n",
      "0                                          NaN                         NaN   \n",
      "1                                            -                           -   \n",
      "2                                            -                           -   \n",
      "3                                            -                           -   \n",
      "4                                            -                           -   \n",
      "\n",
      "  Contributing Factors. Travel Contributing Factors. Other  \\\n",
      "0                          NaN                         NaN   \n",
      "1                       Travel                           -   \n",
      "2                            -                           -   \n",
      "3                       Travel                           -   \n",
      "4                            -                           -   \n",
      "\n",
      "  Contributing Factors. NONE  \\\n",
      "0                        NaN   \n",
      "1                          -   \n",
      "2                       NONE   \n",
      "3                          -   \n",
      "4                          -   \n",
      "\n",
      "  Main Factor. Which of these was the main factor for leaving?  \\\n",
      "0                                                NaN             \n",
      "1                                                NaN             \n",
      "2                                                NaN             \n",
      "3                                                NaN             \n",
      "4                                                NaN             \n",
      "\n",
      "  InstituteViews. Topic:1. I feel the senior leadership had a clear vision and direction  \\\n",
      "0                                              Agree                                       \n",
      "1                                              Agree                                       \n",
      "2                                              Agree                                       \n",
      "3                                              Agree                                       \n",
      "4                                              Agree                                       \n",
      "\n",
      "  InstituteViews. Topic:2. I was given access to skills training to help me do my job better  \\\n",
      "0                                              Agree                                           \n",
      "1                                              Agree                                           \n",
      "2                                              Agree                                           \n",
      "3                                              Agree                                           \n",
      "4                                              Agree                                           \n",
      "\n",
      "  InstituteViews. Topic:3. I was given adequate opportunities for personal development  \\\n",
      "0                                              Agree                                     \n",
      "1                                              Agree                                     \n",
      "2                                              Agree                                     \n",
      "3                                              Agree                                     \n",
      "4                                     Strongly Agree                                     \n",
      "\n",
      "  InstituteViews. Topic:4. I was given adequate opportunities for promotion within %Institute]Q25LBL%  \\\n",
      "0                                            Neutral                                                    \n",
      "1                                              Agree                                                    \n",
      "2                                              Agree                                                    \n",
      "3                                              Agree                                                    \n",
      "4                                              Agree                                                    \n",
      "\n",
      "  InstituteViews. Topic:5. I felt the salary for the job was right for the responsibilities I had  \\\n",
      "0                                              Agree                                                \n",
      "1                                              Agree                                                \n",
      "2                                              Agree                                                \n",
      "3                                              Agree                                                \n",
      "4                                     Strongly Agree                                                \n",
      "\n",
      "  InstituteViews. Topic:6. The organisation recognised when staff did good work  \\\n",
      "0                                              Agree                              \n",
      "1                                     Strongly Agree                              \n",
      "2                                              Agree                              \n",
      "3                                              Agree                              \n",
      "4                                     Strongly Agree                              \n",
      "\n",
      "  InstituteViews. Topic:7. Management was generally supportive of me  \\\n",
      "0                                              Agree                   \n",
      "1                                     Strongly Agree                   \n",
      "2                                     Strongly Agree                   \n",
      "3                                              Agree                   \n",
      "4                                     Strongly Agree                   \n",
      "\n",
      "  InstituteViews. Topic:8. Management was generally supportive of my team  \\\n",
      "0                                              Agree                        \n",
      "1                                              Agree                        \n",
      "2                                              Agree                        \n",
      "3                                              Agree                        \n",
      "4                                     Strongly Agree                        \n",
      "\n",
      "  InstituteViews. Topic:9. I was kept informed of the changes in the organisation which would affect me  \\\n",
      "0                                              Agree                                                      \n",
      "1                                     Strongly Agree                                                      \n",
      "2                                              Agree                                                      \n",
      "3                                              Agree                                                      \n",
      "4                                              Agree                                                      \n",
      "\n",
      "  InstituteViews. Topic:10. Staff morale was positive within the Institute  \\\n",
      "0                                              Agree                         \n",
      "1                                              Agree                         \n",
      "2                                              Agree                         \n",
      "3                                              Agree                         \n",
      "4                                     Strongly Agree                         \n",
      "\n",
      "  InstituteViews. Topic:11. If I had a workplace issue it was dealt with quickly  \\\n",
      "0                                              Agree                               \n",
      "1                                              Agree                               \n",
      "2                                              Agree                               \n",
      "3                                              Agree                               \n",
      "4                                     Strongly Agree                               \n",
      "\n",
      "  InstituteViews. Topic:12. If I had a workplace issue it was dealt with efficiently  \\\n",
      "0                                              Agree                                   \n",
      "1                                              Agree                                   \n",
      "2                                            Neutral                                   \n",
      "3                                              Agree                                   \n",
      "4                                              Agree                                   \n",
      "\n",
      "  InstituteViews. Topic:13. If I had a workplace issue it was dealt with discreetly  \\\n",
      "0                                              Agree                                  \n",
      "1                                           Disagree                                  \n",
      "2                                            Neutral                                  \n",
      "3                                              Agree                                  \n",
      "4                                     Strongly Agree                                  \n",
      "\n",
      "  WorkUnitViews. Topic:14. I was satisfied with the quality of the management and supervision within my work unit  \\\n",
      "0                                              Agree                                                                \n",
      "1                                     Strongly Agree                                                                \n",
      "2                                     Strongly Agree                                                                \n",
      "3                                     Strongly Agree                                                                \n",
      "4                                     Strongly Agree                                                                \n",
      "\n",
      "  WorkUnitViews. Topic:15. I worked well with my colleagues  \\\n",
      "0                                              Agree          \n",
      "1                                     Strongly Agree          \n",
      "2                                     Strongly Agree          \n",
      "3                                     Strongly Agree          \n",
      "4                                     Strongly Agree          \n",
      "\n",
      "  WorkUnitViews. Topic:16. My job was challenging and interesting  \\\n",
      "0                                              Agree                \n",
      "1                                     Strongly Agree                \n",
      "2                                              Agree                \n",
      "3                                     Strongly Agree                \n",
      "4                                     Strongly Agree                \n",
      "\n",
      "  WorkUnitViews. Topic:17. I was encouraged to use my initiative in the course of my work  \\\n",
      "0                                     Strongly Agree                                        \n",
      "1                                              Agree                                        \n",
      "2                                              Agree                                        \n",
      "3                                     Strongly Agree                                        \n",
      "4                                     Strongly Agree                                        \n",
      "\n",
      "  WorkUnitViews. Topic:18. I had sufficient contact with other people in my job  \\\n",
      "0                                              Agree                              \n",
      "1                                              Agree                              \n",
      "2                                              Agree                              \n",
      "3                                     Strongly Agree                              \n",
      "4                                     Strongly Agree                              \n",
      "\n",
      "  WorkUnitViews. Topic:19. I was given adequate support and co-operation by my peers to enable me to do my job  \\\n",
      "0                                              Agree                                                             \n",
      "1                                              Agree                                                             \n",
      "2                                              Agree                                                             \n",
      "3                                     Strongly Agree                                                             \n",
      "4                                     Strongly Agree                                                             \n",
      "\n",
      "  WorkUnitViews. Topic:20. I was able to use the full range of my skills in my job  \\\n",
      "0                                              Agree                                 \n",
      "1                                     Strongly Agree                                 \n",
      "2                                              Agree                                 \n",
      "3                                     Strongly Agree                                 \n",
      "4                                     Strongly Agree                                 \n",
      "\n",
      "  WorkUnitViews. Topic:21. I was able to use the full range of my abilities in my job. ; Category:Level of Agreement; Question:YOUR VIEWS ABOUT YOUR WORK UNIT]  \\\n",
      "0                                              Agree                                                                                                              \n",
      "1                                              Agree                                                                                                              \n",
      "2                                              Agree                                                                                                              \n",
      "3                                     Strongly Agree                                                                                                              \n",
      "4                                     Strongly Agree                                                                                                              \n",
      "\n",
      "  WorkUnitViews. Topic:22. I was able to use the full range of my knowledge in my job  \\\n",
      "0                                              Agree                                    \n",
      "1                                              Agree                                    \n",
      "2                                              Agree                                    \n",
      "3                                     Strongly Agree                                    \n",
      "4                                     Strongly Agree                                    \n",
      "\n",
      "  WorkUnitViews. Topic:23. My job provided sufficient variety  \\\n",
      "0                                              Agree            \n",
      "1                                              Agree            \n",
      "2                                              Agree            \n",
      "3                                     Strongly Agree            \n",
      "4                                     Strongly Agree            \n",
      "\n",
      "  WorkUnitViews. Topic:24. I was able to cope with the level of stress and pressure in my job  \\\n",
      "0                                              Agree                                            \n",
      "1                                     Strongly Agree                                            \n",
      "2                                              Agree                                            \n",
      "3                                     Strongly Agree                                            \n",
      "4                                     Strongly Agree                                            \n",
      "\n",
      "  WorkUnitViews. Topic:25. My job allowed me to balance the demands of work and family to my satisfaction  \\\n",
      "0                                              Agree                                                        \n",
      "1                                              Agree                                                        \n",
      "2                                              Agree                                                        \n",
      "3                                     Strongly Agree                                                        \n",
      "4                                     Strongly Agree                                                        \n",
      "\n",
      "  WorkUnitViews. Topic:26. My supervisor gave me adequate personal recognition and feedback on my performance  \\\n",
      "0                                              Agree                                                            \n",
      "1                                     Strongly Agree                                                            \n",
      "2                                              Agree                                                            \n",
      "3                                     Strongly Agree                                                            \n",
      "4                                     Strongly Agree                                                            \n",
      "\n",
      "  WorkUnitViews. Topic:27. My working environment was satisfactory e.g. sufficient space, good lighting, suitable seating and working area  \\\n",
      "0                                              Agree                                                                                         \n",
      "1                                     Strongly Agree                                                                                         \n",
      "2                                              Agree                                                                                         \n",
      "3                                     Strongly Agree                                                                                         \n",
      "4                                     Strongly Agree                                                                                         \n",
      "\n",
      "  WorkUnitViews. Topic:28. I was given the opportunity to mentor and coach others in order for me to pass on my skills and knowledge prior to my cessation date  \\\n",
      "0                                            Neutral                                                                                                              \n",
      "1                                              Agree                                                                                                              \n",
      "2                                              Agree                                                                                                              \n",
      "3                                     Strongly Agree                                                                                                              \n",
      "4                                     Strongly Agree                                                                                                              \n",
      "\n",
      "  WorkUnitViews. Topic:29. There was adequate communication between staff in my unit  \\\n",
      "0                                              Agree                                   \n",
      "1                                              Agree                                   \n",
      "2                                              Agree                                   \n",
      "3                                     Strongly Agree                                   \n",
      "4                                     Strongly Agree                                   \n",
      "\n",
      "  WorkUnitViews. Topic:30. Staff morale was positive within my work unit  \\\n",
      "0                                              Agree                       \n",
      "1                                     Strongly Agree                       \n",
      "2                                              Agree                       \n",
      "3                                     Strongly Agree                       \n",
      "4                                     Strongly Agree                       \n",
      "\n",
      "  Induction. Did you undertake Workplace Induction?  \\\n",
      "0                                               Yes   \n",
      "1                                                No   \n",
      "2                                                No   \n",
      "3                                               Yes   \n",
      "4                                               Yes   \n",
      "\n",
      "  InductionInfo. Topic:Did you undertake a Corporate Induction?  \\\n",
      "0                                                Yes              \n",
      "1                                                NaN              \n",
      "2                                                NaN              \n",
      "3                                                 No              \n",
      "4                                                Yes              \n",
      "\n",
      "  InductionInfo. Topic:Did you undertake a Institute Induction?  \\\n",
      "0                                                Yes              \n",
      "1                                                NaN              \n",
      "2                                                NaN              \n",
      "3                                                Yes              \n",
      "4                                                Yes              \n",
      "\n",
      "  InductionInfo. Topic: Did you undertake Team Induction?  \\\n",
      "0                                                Yes        \n",
      "1                                                NaN        \n",
      "2                                                NaN        \n",
      "3                                                Yes        \n",
      "4                                                Yes        \n",
      "\n",
      "  InductionInfo. Face to Face Topic:Did you undertake a Corporate Induction; Category:How it was conducted?  \\\n",
      "0                                       Face to Face                                                          \n",
      "1                                                NaN                                                          \n",
      "2                                                NaN                                                          \n",
      "3                                                  -                                                          \n",
      "4                                                  -                                                          \n",
      "\n",
      "  InductionInfo. On-line Topic:Did you undertake a Corporate Induction; Category:How it was conducted?  \\\n",
      "0                                                  -                                                     \n",
      "1                                                NaN                                                     \n",
      "2                                                NaN                                                     \n",
      "3                                                  -                                                     \n",
      "4                                                  -                                                     \n",
      "\n",
      "  InductionInfo. Induction Manual Topic:Did you undertake a Corporate Induction?  \\\n",
      "0                                                  -                               \n",
      "1                                                NaN                               \n",
      "2                                                NaN                               \n",
      "3                                                  -                               \n",
      "4                                   Induction Manual                               \n",
      "\n",
      "  InductionInfo. Face to Face Topic:Did you undertake a Institute Induction?  \\\n",
      "0                                       Face to Face                           \n",
      "1                                                NaN                           \n",
      "2                                                NaN                           \n",
      "3                                                NaN                           \n",
      "4                                       Face to Face                           \n",
      "\n",
      "  InductionInfo. On-line Topic:Did you undertake a Institute Induction?  \\\n",
      "0                                                  -                      \n",
      "1                                                NaN                      \n",
      "2                                                NaN                      \n",
      "3                                                  -                      \n",
      "4                                                  -                      \n",
      "\n",
      "  InductionInfo. Induction Manual Topic:Did you undertake a Institute Induction?  \\\n",
      "0                                                  -                               \n",
      "1                                                NaN                               \n",
      "2                                                NaN                               \n",
      "3                                                  -                               \n",
      "4                                                  -                               \n",
      "\n",
      "  InductionInfo. Face to Face Topic: Did you undertake Team Induction; Category?  \\\n",
      "0                                       Face to Face                               \n",
      "1                                                NaN                               \n",
      "2                                                NaN                               \n",
      "3                                                  -                               \n",
      "4                                       Face to Face                               \n",
      "\n",
      "  InductionInfo. On-line Topic: Did you undertake Team Induction?process you undertook and how it was conducted.]  \\\n",
      "0                                                  -                                                                \n",
      "1                                                NaN                                                                \n",
      "2                                                NaN                                                                \n",
      "3                                                  -                                                                \n",
      "4                                                  -                                                                \n",
      "\n",
      "  InductionInfo. Induction Manual Topic: Did you undertake Team Induction?  \\\n",
      "0                                                  -                         \n",
      "1                                                NaN                         \n",
      "2                                                NaN                         \n",
      "3                                                  -                         \n",
      "4                                                  -                         \n",
      "\n",
      "  Workplace. Topic:Did you and your Manager develop a Performance and Professional Development Plan (PPDP)?  \\\n",
      "0                                                Yes                                                          \n",
      "1                                                Yes                                                          \n",
      "2                                                Yes                                                          \n",
      "3                                                Yes                                                          \n",
      "4                                                Yes                                                          \n",
      "\n",
      "  Workplace. Topic:Does your workplace promote a work culture free from all forms of unlawful discrimination?  \\\n",
      "0                                                Yes                                                            \n",
      "1                                                Yes                                                            \n",
      "2                                                Yes                                                            \n",
      "3                                                Yes                                                            \n",
      "4                                                Yes                                                            \n",
      "\n",
      "  Workplace. Topic:Does your workplace promote and practice the principles of employment equity?  \\\n",
      "0                                                Yes                                               \n",
      "1                                                Yes                                               \n",
      "2                                                Yes                                               \n",
      "3                                                Yes                                               \n",
      "4                                                Yes                                               \n",
      "\n",
      "  Workplace. Topic:Does your workplace value the diversity of its employees?  \\\n",
      "0                                                Yes                           \n",
      "1                                                Yes                           \n",
      "2                                                Yes                           \n",
      "3                                                Yes                           \n",
      "4                                                Yes                           \n",
      "\n",
      "  Workplace. Topic:Would you recommend the Institute as an employer to others?  \\\n",
      "0                                                Yes                             \n",
      "1                                                Yes                             \n",
      "2                                                Yes                             \n",
      "3                                                Yes                             \n",
      "4                                                Yes                             \n",
      "\n",
      "  Gender. What is your Gender? CurrentAge. Current Age  \\\n",
      "0                       Female                  26  30   \n",
      "1                          NaN                     NaN   \n",
      "2                          NaN                     NaN   \n",
      "3                          NaN                     NaN   \n",
      "4                         Male                  41  45   \n",
      "\n",
      "  Employment Type. Employment Type Classification. Classification  \\\n",
      "0              Temporary Full-time            Administration (AO)   \n",
      "1                              NaN                            NaN   \n",
      "2                              NaN                            NaN   \n",
      "3                              NaN                            NaN   \n",
      "4              Permanent Full-time        Teacher (including LVT)   \n",
      "\n",
      "  LengthofServiceOverall. Overall Length of Service at Institute (in years)  \\\n",
      "0                                                1-2                          \n",
      "1                                                NaN                          \n",
      "2                                                NaN                          \n",
      "3                                                NaN                          \n",
      "4                                                3-4                          \n",
      "\n",
      "  LengthofServiceCurrent. Length of Service at current workplace (in years)  \n",
      "0                                                1-2                         \n",
      "1                                                NaN                         \n",
      "2                                                NaN                         \n",
      "3                                                NaN                         \n",
      "4                                                3-4                         \n"
     ]
    }
   ],
   "source": [
    "print(tafe_survey.info())\n",
    "print('\\n')\n",
    "print(tafe_survey.head())"
   ]
  },
  {
   "cell_type": "markdown",
   "metadata": {},
   "source": [
    "Some preliminary observations can be made from the datasets above. \n",
    "\n",
    "1. Both the `tafe_survey` and `dete_survey` contain columns that are entirely unnecessary to the objectives of our analysis.\n",
    "2. Some columns are essentially duplicates of each other, except that they have similar names. \n",
    "3. The `dete_survey` dataframe contains string values of 'Not Stated', to signifiy that a value wasn't entered, in place of the 'NaN' that one might expect.\n",
    "4. There are numerous columns in which an ex-employee specified that their reason for leaving was dissatisfaction. "
   ]
  },
  {
   "cell_type": "markdown",
   "metadata": {},
   "source": [
    "Now, the `dete_survey.csv` file will be read into pandas again, but this time the `Not Stated` values will be read in as `NaN`. "
   ]
  },
  {
   "cell_type": "code",
   "execution_count": 3,
   "metadata": {
    "collapsed": true
   },
   "outputs": [],
   "source": [
    "dete_survey = pd.read_csv('dete_survey.csv', na_values = 'Not Stated')"
   ]
  },
  {
   "cell_type": "markdown",
   "metadata": {},
   "source": [
    "We'll also drop columns from each of the 2 dataframes that won't be necessary in our analysis."
   ]
  },
  {
   "cell_type": "code",
   "execution_count": 4,
   "metadata": {
    "collapsed": true
   },
   "outputs": [],
   "source": [
    "dete_survey_updated = dete_survey.drop(dete_survey.columns[28:49], axis = 1)\n",
    "\n",
    "tafe_survey_updated = tafe_survey.drop(tafe_survey.columns[17:66], axis = 1)"
   ]
  },
  {
   "cell_type": "code",
   "execution_count": 5,
   "metadata": {
    "collapsed": false
   },
   "outputs": [
    {
     "name": "stdout",
     "output_type": "stream",
     "text": [
      "Index(['Record ID', 'Institute', 'WorkArea', 'CESSATION YEAR',\n",
      "       'Reason for ceasing employment',\n",
      "       'Contributing Factors. Career Move - Public Sector ',\n",
      "       'Contributing Factors. Career Move - Private Sector ',\n",
      "       'Contributing Factors. Career Move - Self-employment',\n",
      "       'Contributing Factors. Ill Health',\n",
      "       'Contributing Factors. Maternity/Family',\n",
      "       'Contributing Factors. Dissatisfaction',\n",
      "       'Contributing Factors. Job Dissatisfaction',\n",
      "       'Contributing Factors. Interpersonal Conflict',\n",
      "       'Contributing Factors. Study', 'Contributing Factors. Travel',\n",
      "       'Contributing Factors. Other', 'Contributing Factors. NONE',\n",
      "       'Gender. What is your Gender?', 'CurrentAge. Current Age',\n",
      "       'Employment Type. Employment Type', 'Classification. Classification',\n",
      "       'LengthofServiceOverall. Overall Length of Service at Institute (in years)',\n",
      "       'LengthofServiceCurrent. Length of Service at current workplace (in years)'],\n",
      "      dtype='object')\n",
      "\n",
      "\n",
      "Index(['ID', 'SeparationType', 'Cease Date', 'DETE Start Date',\n",
      "       'Role Start Date', 'Position', 'Classification', 'Region',\n",
      "       'Business Unit', 'Employment Status', 'Career move to public sector',\n",
      "       'Career move to private sector', 'Interpersonal conflicts',\n",
      "       'Job dissatisfaction', 'Dissatisfaction with the department',\n",
      "       'Physical work environment', 'Lack of recognition',\n",
      "       'Lack of job security', 'Work location', 'Employment conditions',\n",
      "       'Maternity/family', 'Relocation', 'Study/Travel', 'Ill Health',\n",
      "       'Traumatic incident', 'Work life balance', 'Workload',\n",
      "       'None of the above', 'Gender', 'Age', 'Aboriginal', 'Torres Strait',\n",
      "       'South Sea', 'Disability', 'NESB'],\n",
      "      dtype='object')\n"
     ]
    }
   ],
   "source": [
    "print(tafe_survey_updated.columns)\n",
    "print('\\n')\n",
    "print(dete_survey_updated.columns)"
   ]
  },
  {
   "cell_type": "markdown",
   "metadata": {},
   "source": [
    "Right now we have columns in both dataframes that represent the same information, but have different names.\n",
    "\n",
    "For example, the column that tracks the participant's identity is called `ID` in the `dete_survey` dataframe, and `Record ID` in the `tafe_survey` dataframe. \n",
    "\n",
    "Column names thus need to be standardized across both datasets."
   ]
  },
  {
   "cell_type": "markdown",
   "metadata": {},
   "source": [
    "## Re-naming Columns\n",
    "\n",
    "For the dete_survey_updated columns, the following changes will be made:\n",
    "- Capitalization will be made lowercase\n",
    "- Spaces will be replaced with underscores\n",
    "- Trailing whitespace from the end of the strings will be removed"
   ]
  },
  {
   "cell_type": "code",
   "execution_count": 6,
   "metadata": {
    "collapsed": false
   },
   "outputs": [
    {
     "name": "stdout",
     "output_type": "stream",
     "text": [
      "Index(['id', 'separationtype', 'cease_date', 'dete_start_date',\n",
      "       'role_start_date', 'position', 'classification', 'region',\n",
      "       'business_unit', 'employment_status', 'career_move_to_public_sector',\n",
      "       'career_move_to_private_sector', 'interpersonal_conflicts',\n",
      "       'job_dissatisfaction', 'dissatisfaction_with_the_department',\n",
      "       'physical_work_environment', 'lack_of_recognition',\n",
      "       'lack_of_job_security', 'work_location', 'employment_conditions',\n",
      "       'maternity/family', 'relocation', 'study/travel', 'ill_health',\n",
      "       'traumatic_incident', 'work_life_balance', 'workload',\n",
      "       'none_of_the_above', 'gender', 'age', 'aboriginal', 'torres_strait',\n",
      "       'south_sea', 'disability', 'nesb'],\n",
      "      dtype='object')\n"
     ]
    }
   ],
   "source": [
    "dete_survey_updated.columns = dete_survey_updated.columns.str.lower().str.replace(' ','_').str.strip()\n",
    "\n",
    "print(dete_survey_updated.columns)"
   ]
  },
  {
   "cell_type": "markdown",
   "metadata": {},
   "source": [
    "Some `tafe_survey_updated` column names will also be altered to match the column names of the `dete_survey_updated` dataframe, as per the dictionary seen below:"
   ]
  },
  {
   "cell_type": "code",
   "execution_count": 7,
   "metadata": {
    "collapsed": false
   },
   "outputs": [
    {
     "data": {
      "text/plain": [
       "Index(['id', 'Institute', 'WorkArea', 'cease_date', 'separationtype',\n",
       "       'Contributing Factors. Career Move - Public Sector ',\n",
       "       'Contributing Factors. Career Move - Private Sector ',\n",
       "       'Contributing Factors. Career Move - Self-employment',\n",
       "       'Contributing Factors. Ill Health',\n",
       "       'Contributing Factors. Maternity/Family',\n",
       "       'Contributing Factors. Dissatisfaction',\n",
       "       'Contributing Factors. Job Dissatisfaction',\n",
       "       'Contributing Factors. Interpersonal Conflict',\n",
       "       'Contributing Factors. Study', 'Contributing Factors. Travel',\n",
       "       'Contributing Factors. Other', 'Contributing Factors. NONE', 'gender',\n",
       "       'age', 'employment_status', 'position', 'institute_service',\n",
       "       'role_service'],\n",
       "      dtype='object')"
      ]
     },
     "execution_count": 7,
     "metadata": {},
     "output_type": "execute_result"
    }
   ],
   "source": [
    "renaming_dict = {'Record ID': 'id', 'CESSATION YEAR': 'cease_date', 'Reason for ceasing employment': 'separationtype', 'Gender. What is your Gender?': 'gender', 'CurrentAge. Current Age': 'age',\n",
    "       'Employment Type. Employment Type': 'employment_status',\n",
    "       'Classification. Classification': 'position',\n",
    "       'LengthofServiceOverall. Overall Length of Service at Institute (in years)': 'institute_service',\n",
    "       'LengthofServiceCurrent. Length of Service at current workplace (in years)': 'role_service'}\n",
    "\n",
    "tafe_survey_updated = tafe_survey_updated.rename(renaming_dict, axis = 1)\n",
    "\n",
    "tafe_survey_updated.columns"
   ]
  },
  {
   "cell_type": "markdown",
   "metadata": {},
   "source": [
    "## Further cleaning of Data\n",
    "\n",
    "We'll only need data of survey responders for whom the 'separationtype' is listed as 'Resignation'."
   ]
  },
  {
   "cell_type": "code",
   "execution_count": 8,
   "metadata": {
    "collapsed": false
   },
   "outputs": [
    {
     "data": {
      "text/plain": [
       "Age Retirement                          285\n",
       "Resignation-Other reasons               150\n",
       "Resignation-Other employer               91\n",
       "Resignation-Move overseas/interstate     70\n",
       "Voluntary Early Retirement (VER)         67\n",
       "Ill Health Retirement                    61\n",
       "Other                                    49\n",
       "Contract Expired                         34\n",
       "Termination                              15\n",
       "Name: separationtype, dtype: int64"
      ]
     },
     "execution_count": 8,
     "metadata": {},
     "output_type": "execute_result"
    }
   ],
   "source": [
    "dete_survey_updated['separationtype'].value_counts()"
   ]
  },
  {
   "cell_type": "code",
   "execution_count": 9,
   "metadata": {
    "collapsed": false
   },
   "outputs": [
    {
     "data": {
      "text/plain": [
       "Resignation                 340\n",
       "Contract Expired            127\n",
       "Retrenchment/ Redundancy    104\n",
       "Retirement                   82\n",
       "Transfer                     25\n",
       "Termination                  23\n",
       "Name: separationtype, dtype: int64"
      ]
     },
     "execution_count": 9,
     "metadata": {},
     "output_type": "execute_result"
    }
   ],
   "source": [
    "tafe_survey_updated['separationtype'].value_counts()"
   ]
  },
  {
   "cell_type": "markdown",
   "metadata": {},
   "source": [
    "We see above that in the `dete_survey_updated` dataframe, there are multiple separation types under 'Resignation':\n",
    "- Resignation-Other reasons\n",
    "- Resignation-Other employer\n",
    "- Resignation-Move overseas/interstate\n",
    "\n",
    "We'll have to account for these variations so data is not accidentally dropped."
   ]
  },
  {
   "cell_type": "code",
   "execution_count": 10,
   "metadata": {
    "collapsed": false
   },
   "outputs": [
    {
     "name": "stdout",
     "output_type": "stream",
     "text": [
      "['Resignation']\n",
      "\n",
      "\n",
      "['Resignation']\n"
     ]
    }
   ],
   "source": [
    "tafe_resignations = tafe_survey_updated.loc[tafe_survey_updated['separationtype'] == 'Resignation'].copy()\n",
    "\n",
    "dete_survey_updated['separationtype'] = dete_survey_updated['separationtype'].str.split('-').str[0]\n",
    "\n",
    "dete_resignations = dete_survey_updated.loc[dete_survey_updated['separationtype'] == 'Resignation'].copy()\n",
    "\n",
    "print(tafe_resignations['separationtype'].unique())\n",
    "print('\\n')\n",
    "print(dete_resignations['separationtype'].unique())"
   ]
  },
  {
   "cell_type": "markdown",
   "metadata": {},
   "source": [
    "After renaming all variations of Resignation values in `dete_survey_updated` to 'Resignation', we managed to isolate all rows that correspond to employees who resigned."
   ]
  },
  {
   "cell_type": "markdown",
   "metadata": {},
   "source": [
    "## Double-checking data for inconsistencies\n",
    "\n",
    "In this step, we'll focus on making sure that the years in the `cease_date` and `dete_start_date` columns make sense. \n",
    "\n",
    "For instance, since the `cease_date` column indicates the employee's last year of employment, and `dete_start_date` is their first year of employment, it wouldn't make sense if the start date was after the cease date. \n",
    "\n",
    "We also know that most of the people in this field start working in their 20s, which means that a start date before the year 1940 is most likely an incorrect entry."
   ]
  },
  {
   "cell_type": "code",
   "execution_count": 11,
   "metadata": {
    "collapsed": false
   },
   "outputs": [
    {
     "data": {
      "text/plain": [
       "2012       126\n",
       "2013        74\n",
       "01/2014     22\n",
       "12/2013     17\n",
       "06/2013     14\n",
       "09/2013     11\n",
       "07/2013      9\n",
       "11/2013      9\n",
       "10/2013      6\n",
       "08/2013      4\n",
       "05/2013      2\n",
       "05/2012      2\n",
       "07/2006      1\n",
       "2010         1\n",
       "07/2012      1\n",
       "09/2010      1\n",
       "Name: cease_date, dtype: int64"
      ]
     },
     "execution_count": 11,
     "metadata": {},
     "output_type": "execute_result"
    }
   ],
   "source": [
    "dete_resignations['cease_date'].value_counts()"
   ]
  },
  {
   "cell_type": "markdown",
   "metadata": {},
   "source": [
    "We see above that the `cease_date` column in `dete_resignations` is listed in two formats:\n",
    "\n",
    "- YYYY\n",
    "- MM/YYYY\n",
    "\n",
    "We'll use vectorized string methods to extract the year, and then later convert the type to a float."
   ]
  },
  {
   "cell_type": "code",
   "execution_count": 12,
   "metadata": {
    "collapsed": false
   },
   "outputs": [
    {
     "name": "stdout",
     "output_type": "stream",
     "text": [
      "2013.0    146\n",
      "2012.0    129\n",
      "2014.0     22\n",
      "2010.0      2\n",
      "2006.0      1\n",
      "Name: cease_date, dtype: int64\n"
     ]
    },
    {
     "name": "stderr",
     "output_type": "stream",
     "text": [
      "/dataquest/system/env/python3/lib/python3.4/site-packages/ipykernel/__main__.py:2: FutureWarning: currently extract(expand=None) means expand=False (return Index/Series/DataFrame) but in a future version of pandas this will be changed to expand=True (return DataFrame)\n",
      "  from ipykernel import kernelapp as app\n"
     ]
    }
   ],
   "source": [
    "dete_resignations['cease_date'] = (dete_resignations['cease_date']\n",
    "                                   .str.extract(r'([1-2][0-9]{3})').astype(float))\n",
    "\n",
    "print(dete_resignations['cease_date'].value_counts())"
   ]
  },
  {
   "cell_type": "code",
   "execution_count": 13,
   "metadata": {
    "collapsed": false
   },
   "outputs": [
    {
     "data": {
      "text/plain": [
       "1963.0     1\n",
       "1971.0     1\n",
       "1972.0     1\n",
       "1973.0     1\n",
       "1974.0     2\n",
       "1975.0     1\n",
       "1976.0     2\n",
       "1977.0     1\n",
       "1980.0     5\n",
       "1982.0     1\n",
       "1983.0     2\n",
       "1984.0     1\n",
       "1985.0     3\n",
       "1986.0     3\n",
       "1987.0     1\n",
       "1988.0     4\n",
       "1989.0     4\n",
       "1990.0     5\n",
       "1991.0     4\n",
       "1992.0     6\n",
       "1993.0     5\n",
       "1994.0     6\n",
       "1995.0     4\n",
       "1996.0     6\n",
       "1997.0     5\n",
       "1998.0     6\n",
       "1999.0     8\n",
       "2000.0     9\n",
       "2001.0     3\n",
       "2002.0     6\n",
       "2003.0     6\n",
       "2004.0    14\n",
       "2005.0    15\n",
       "2006.0    13\n",
       "2007.0    21\n",
       "2008.0    22\n",
       "2009.0    13\n",
       "2010.0    17\n",
       "2011.0    24\n",
       "2012.0    21\n",
       "2013.0    10\n",
       "Name: dete_start_date, dtype: int64"
      ]
     },
     "execution_count": 13,
     "metadata": {},
     "output_type": "execute_result"
    }
   ],
   "source": [
    "dete_resignations['dete_start_date'].value_counts().sort_index()"
   ]
  },
  {
   "cell_type": "markdown",
   "metadata": {
    "collapsed": true
   },
   "source": [
    "At first glance, it doesn't look like there are many dates that could be incorrectly entered in the `dete_resignations` dataframe. \n",
    "\n",
    "Now, let's see the `cease_date` column in `tafe_resignations`."
   ]
  },
  {
   "cell_type": "code",
   "execution_count": 14,
   "metadata": {
    "collapsed": false
   },
   "outputs": [
    {
     "data": {
      "text/plain": [
       "2011.0    116\n",
       "2012.0     94\n",
       "2010.0     68\n",
       "2013.0     55\n",
       "2009.0      2\n",
       "Name: cease_date, dtype: int64"
      ]
     },
     "execution_count": 14,
     "metadata": {},
     "output_type": "execute_result"
    }
   ],
   "source": [
    "tafe_resignations['cease_date'].value_counts()"
   ]
  },
  {
   "cell_type": "markdown",
   "metadata": {},
   "source": [
    "We note that the years in both dataframes aren't completely aligned. The `tafe_resignations` dataframe contains some cease dates in 2009, but the `dete_resignations` dataframe doesn't. \n",
    "\n",
    "The `tafe_resignations` dataframe also has quite a few more cease dates in 2010 than the `dete_resignations` dataframe.\n",
    "\n",
    "Because we aren't interested in analyzing the results by year, we'll leave them as they are. "
   ]
  },
  {
   "cell_type": "markdown",
   "metadata": {},
   "source": [
    "## Creating new Columns\n",
    "\n",
    "In the Human Resources field, the length of time an employee spent in a workplace is referred to as their years of service.\n",
    "\n",
    "The `tafe_resignations` dataframe already contains a `institute_service` column that measures their years of service. In order to analyze both survey results together, we'll need to make a corresponding `institute_service` column in the `dete_resignations` dataframe. \n",
    "\n",
    "We can calculate the length of time the employee spent in service by substracting their employment start date from their cease date. "
   ]
  },
  {
   "cell_type": "code",
   "execution_count": 15,
   "metadata": {
    "collapsed": false
   },
   "outputs": [],
   "source": [
    "dete_resignations['institute_service'] = dete_resignations['cease_date'] - dete_resignations['dete_start_date']"
   ]
  },
  {
   "cell_type": "markdown",
   "metadata": {},
   "source": [
    "## Identifying Dissatisfied Employees\n",
    "\n",
    "Now, we'll identify employees who cited dissatisfaction as one of their reasons for resigning. \n",
    "\n",
    "We'll use the following columns from each dataframe.\n",
    "\n",
    "tafe_resignations:\n",
    "- `Contributing Factors. Dissatisfaction`\n",
    "- `Contributing Factors. Job Dissatisfaction`\n",
    "\n",
    "dete_resignations:\n",
    "- `job_dissatisfaction`\n",
    "- `dissatisfaction_with_the_department`\n",
    "- `physical_work_environment`\n",
    "- `lack_of_recognition`\n",
    "- `lack_of_job_security`\n",
    "- `work_location`\n",
    "- `employment_conditions`\n",
    "- `work_life_balance`\n",
    "- `workload`\n",
    "\n",
    "If any employee indicates that they were dissatisfied in any one of the above categories at all, they'll be marked `dissatisfied` in a separate column. This new column will thus contain only one of 3 values:\n",
    "\n",
    "- `True`: Employee was dissatisfied over one of more things, leading to their resignation\n",
    "- `False`: Employee resigned for a reason other than dissatisfaction\n",
    "- `NaN`: Missing Value"
   ]
  },
  {
   "cell_type": "code",
   "execution_count": 16,
   "metadata": {
    "collapsed": false
   },
   "outputs": [
    {
     "data": {
      "text/plain": [
       "-                                         277\n",
       "Contributing Factors. Dissatisfaction      55\n",
       "Name: Contributing Factors. Dissatisfaction, dtype: int64"
      ]
     },
     "execution_count": 16,
     "metadata": {},
     "output_type": "execute_result"
    }
   ],
   "source": [
    "tafe_resignations['Contributing Factors. Dissatisfaction'].value_counts()"
   ]
  },
  {
   "cell_type": "code",
   "execution_count": 17,
   "metadata": {
    "collapsed": false
   },
   "outputs": [
    {
     "data": {
      "text/plain": [
       "-                      270\n",
       "Job Dissatisfaction     62\n",
       "Name: Contributing Factors. Job Dissatisfaction, dtype: int64"
      ]
     },
     "execution_count": 17,
     "metadata": {},
     "output_type": "execute_result"
    }
   ],
   "source": [
    "tafe_resignations['Contributing Factors. Job Dissatisfaction'].value_counts()"
   ]
  },
  {
   "cell_type": "markdown",
   "metadata": {},
   "source": [
    "We'll update the values in the above 2 columns now such that either 'True', 'False', or 'NaN' is reflected in their values.\n",
    "\n",
    "This will be done by writing a function that does that."
   ]
  },
  {
   "cell_type": "code",
   "execution_count": 18,
   "metadata": {
    "collapsed": false
   },
   "outputs": [
    {
     "data": {
      "text/plain": [
       "False    241\n",
       "True      91\n",
       "NaN        8\n",
       "Name: dissatisfied, dtype: int64"
      ]
     },
     "execution_count": 18,
     "metadata": {},
     "output_type": "execute_result"
    }
   ],
   "source": [
    "def update_vals(element):\n",
    "    if element == '-':\n",
    "        return False\n",
    "    elif pd.isnull(element):\n",
    "        return np.nan\n",
    "    else:\n",
    "        return True\n",
    "    \n",
    "# Creating 'dissatisfied' column for tafe_resignations:    \n",
    "tafe_resignations[['Contributing Factors. Job Dissatisfaction', 'Contributing Factors. Dissatisfaction']] = (\n",
    "tafe_resignations[['Contributing Factors. Job Dissatisfaction', 'Contributing Factors. Dissatisfaction']]\n",
    "    .applymap(update_vals))\n",
    "    \n",
    "tafe_resignations['dissatisfied'] = tafe_resignations[['Contributing Factors. Job Dissatisfaction', 'Contributing Factors. Dissatisfaction']].any(1, skipna=False)\n",
    "\n",
    "tafe_resignations['dissatisfied'].value_counts(dropna=False)"
   ]
  },
  {
   "cell_type": "code",
   "execution_count": 19,
   "metadata": {
    "collapsed": false
   },
   "outputs": [
    {
     "data": {
      "text/plain": [
       "False    162\n",
       "True     149\n",
       "Name: dissatisfied, dtype: int64"
      ]
     },
     "execution_count": 19,
     "metadata": {},
     "output_type": "execute_result"
    }
   ],
   "source": [
    "# Creating 'dissatisfied' column for dete_resignations: \n",
    "dete_resignations['dissatisfied'] = dete_resignations[['job_dissatisfaction',\n",
    "       'dissatisfaction_with_the_department', 'physical_work_environment',\n",
    "       'lack_of_recognition', 'lack_of_job_security', 'work_location',\n",
    "       'employment_conditions', 'work_life_balance',\n",
    "       'workload']].any(1, skipna=False)\n",
    "\n",
    "dete_resignations['dissatisfied'].value_counts(dropna=False)"
   ]
  },
  {
   "cell_type": "markdown",
   "metadata": {},
   "source": [
    "## Combining the 2 dataframes\n",
    "\n",
    "Thus far, we've performed the following tasks:\n",
    "\n",
    "- Renamed columns to standardize column names where appropriate.\n",
    "- Dropped data we didn't need.\n",
    "- Made sure there was no invalid data.\n",
    "- Created an `institute_service` column to measure the duration of employment.\n",
    "- Cleaned the `Contributing Factors` columns considerably.\n",
    "- Created a new column, `dissatisfied`, that measured if an employee resigned because they were dissatisfied in one way or another. \n",
    "\n",
    "With all this in view, we'll now proceed to combine both our datasets. \n",
    "\n",
    "We'll first add a column to each dataframe so we can easily distinguish between the two."
   ]
  },
  {
   "cell_type": "code",
   "execution_count": 20,
   "metadata": {
    "collapsed": true
   },
   "outputs": [],
   "source": [
    "dete_resignations_up = dete_resignations\n",
    "tafe_resignations_up = tafe_resignations\n",
    "\n",
    "dete_resignations_up['institute'] = 'DETE'\n",
    "tafe_resignations_up['institute'] = 'TAFE'"
   ]
  },
  {
   "cell_type": "code",
   "execution_count": 22,
   "metadata": {
    "collapsed": false
   },
   "outputs": [
    {
     "data": {
      "text/html": [
       "<div>\n",
       "<style scoped>\n",
       "    .dataframe tbody tr th:only-of-type {\n",
       "        vertical-align: middle;\n",
       "    }\n",
       "\n",
       "    .dataframe tbody tr th {\n",
       "        vertical-align: top;\n",
       "    }\n",
       "\n",
       "    .dataframe thead th {\n",
       "        text-align: right;\n",
       "    }\n",
       "</style>\n",
       "<table border=\"1\" class=\"dataframe\">\n",
       "  <thead>\n",
       "    <tr style=\"text-align: right;\">\n",
       "      <th></th>\n",
       "      <th>Contributing Factors. Career Move - Private Sector</th>\n",
       "      <th>Contributing Factors. Career Move - Public Sector</th>\n",
       "      <th>Contributing Factors. Career Move - Self-employment</th>\n",
       "      <th>Contributing Factors. Dissatisfaction</th>\n",
       "      <th>Contributing Factors. Ill Health</th>\n",
       "      <th>Contributing Factors. Interpersonal Conflict</th>\n",
       "      <th>Contributing Factors. Job Dissatisfaction</th>\n",
       "      <th>Contributing Factors. Maternity/Family</th>\n",
       "      <th>Contributing Factors. NONE</th>\n",
       "      <th>Contributing Factors. Other</th>\n",
       "      <th>Contributing Factors. Study</th>\n",
       "      <th>Contributing Factors. Travel</th>\n",
       "      <th>Institute</th>\n",
       "      <th>WorkArea</th>\n",
       "      <th>aboriginal</th>\n",
       "      <th>age</th>\n",
       "      <th>business_unit</th>\n",
       "      <th>career_move_to_private_sector</th>\n",
       "      <th>career_move_to_public_sector</th>\n",
       "      <th>cease_date</th>\n",
       "      <th>classification</th>\n",
       "      <th>dete_start_date</th>\n",
       "      <th>disability</th>\n",
       "      <th>dissatisfaction_with_the_department</th>\n",
       "      <th>dissatisfied</th>\n",
       "      <th>employment_conditions</th>\n",
       "      <th>employment_status</th>\n",
       "      <th>gender</th>\n",
       "      <th>id</th>\n",
       "      <th>ill_health</th>\n",
       "      <th>institute</th>\n",
       "      <th>institute_service</th>\n",
       "      <th>interpersonal_conflicts</th>\n",
       "      <th>job_dissatisfaction</th>\n",
       "      <th>lack_of_job_security</th>\n",
       "      <th>lack_of_recognition</th>\n",
       "      <th>maternity/family</th>\n",
       "      <th>nesb</th>\n",
       "      <th>none_of_the_above</th>\n",
       "      <th>physical_work_environment</th>\n",
       "      <th>position</th>\n",
       "      <th>region</th>\n",
       "      <th>relocation</th>\n",
       "      <th>role_service</th>\n",
       "      <th>role_start_date</th>\n",
       "      <th>separationtype</th>\n",
       "      <th>south_sea</th>\n",
       "      <th>study/travel</th>\n",
       "      <th>torres_strait</th>\n",
       "      <th>traumatic_incident</th>\n",
       "      <th>work_life_balance</th>\n",
       "      <th>work_location</th>\n",
       "      <th>workload</th>\n",
       "    </tr>\n",
       "  </thead>\n",
       "  <tbody>\n",
       "    <tr>\n",
       "      <th>0</th>\n",
       "      <td>NaN</td>\n",
       "      <td>NaN</td>\n",
       "      <td>NaN</td>\n",
       "      <td>NaN</td>\n",
       "      <td>NaN</td>\n",
       "      <td>NaN</td>\n",
       "      <td>NaN</td>\n",
       "      <td>NaN</td>\n",
       "      <td>NaN</td>\n",
       "      <td>NaN</td>\n",
       "      <td>NaN</td>\n",
       "      <td>NaN</td>\n",
       "      <td>NaN</td>\n",
       "      <td>NaN</td>\n",
       "      <td>NaN</td>\n",
       "      <td>36-40</td>\n",
       "      <td>NaN</td>\n",
       "      <td>True</td>\n",
       "      <td>False</td>\n",
       "      <td>2012.0</td>\n",
       "      <td>Primary</td>\n",
       "      <td>2005.0</td>\n",
       "      <td>NaN</td>\n",
       "      <td>False</td>\n",
       "      <td>False</td>\n",
       "      <td>False</td>\n",
       "      <td>Permanent Full-time</td>\n",
       "      <td>Female</td>\n",
       "      <td>4.0</td>\n",
       "      <td>False</td>\n",
       "      <td>DETE</td>\n",
       "      <td>7</td>\n",
       "      <td>False</td>\n",
       "      <td>False</td>\n",
       "      <td>False</td>\n",
       "      <td>False</td>\n",
       "      <td>False</td>\n",
       "      <td>NaN</td>\n",
       "      <td>False</td>\n",
       "      <td>False</td>\n",
       "      <td>Teacher</td>\n",
       "      <td>Central Queensland</td>\n",
       "      <td>False</td>\n",
       "      <td>NaN</td>\n",
       "      <td>2006.0</td>\n",
       "      <td>Resignation</td>\n",
       "      <td>NaN</td>\n",
       "      <td>False</td>\n",
       "      <td>NaN</td>\n",
       "      <td>False</td>\n",
       "      <td>False</td>\n",
       "      <td>False</td>\n",
       "      <td>False</td>\n",
       "    </tr>\n",
       "    <tr>\n",
       "      <th>1</th>\n",
       "      <td>NaN</td>\n",
       "      <td>NaN</td>\n",
       "      <td>NaN</td>\n",
       "      <td>NaN</td>\n",
       "      <td>NaN</td>\n",
       "      <td>NaN</td>\n",
       "      <td>NaN</td>\n",
       "      <td>NaN</td>\n",
       "      <td>NaN</td>\n",
       "      <td>NaN</td>\n",
       "      <td>NaN</td>\n",
       "      <td>NaN</td>\n",
       "      <td>NaN</td>\n",
       "      <td>NaN</td>\n",
       "      <td>NaN</td>\n",
       "      <td>41-45</td>\n",
       "      <td>Education Queensland</td>\n",
       "      <td>True</td>\n",
       "      <td>False</td>\n",
       "      <td>2012.0</td>\n",
       "      <td>NaN</td>\n",
       "      <td>1994.0</td>\n",
       "      <td>NaN</td>\n",
       "      <td>False</td>\n",
       "      <td>True</td>\n",
       "      <td>True</td>\n",
       "      <td>Permanent Full-time</td>\n",
       "      <td>Female</td>\n",
       "      <td>6.0</td>\n",
       "      <td>False</td>\n",
       "      <td>DETE</td>\n",
       "      <td>18</td>\n",
       "      <td>False</td>\n",
       "      <td>False</td>\n",
       "      <td>False</td>\n",
       "      <td>False</td>\n",
       "      <td>True</td>\n",
       "      <td>NaN</td>\n",
       "      <td>False</td>\n",
       "      <td>False</td>\n",
       "      <td>Guidance Officer</td>\n",
       "      <td>Central Office</td>\n",
       "      <td>False</td>\n",
       "      <td>NaN</td>\n",
       "      <td>1997.0</td>\n",
       "      <td>Resignation</td>\n",
       "      <td>NaN</td>\n",
       "      <td>False</td>\n",
       "      <td>NaN</td>\n",
       "      <td>False</td>\n",
       "      <td>False</td>\n",
       "      <td>False</td>\n",
       "      <td>False</td>\n",
       "    </tr>\n",
       "    <tr>\n",
       "      <th>2</th>\n",
       "      <td>NaN</td>\n",
       "      <td>NaN</td>\n",
       "      <td>NaN</td>\n",
       "      <td>NaN</td>\n",
       "      <td>NaN</td>\n",
       "      <td>NaN</td>\n",
       "      <td>NaN</td>\n",
       "      <td>NaN</td>\n",
       "      <td>NaN</td>\n",
       "      <td>NaN</td>\n",
       "      <td>NaN</td>\n",
       "      <td>NaN</td>\n",
       "      <td>NaN</td>\n",
       "      <td>NaN</td>\n",
       "      <td>NaN</td>\n",
       "      <td>31-35</td>\n",
       "      <td>NaN</td>\n",
       "      <td>True</td>\n",
       "      <td>False</td>\n",
       "      <td>2012.0</td>\n",
       "      <td>Secondary</td>\n",
       "      <td>2009.0</td>\n",
       "      <td>NaN</td>\n",
       "      <td>False</td>\n",
       "      <td>False</td>\n",
       "      <td>False</td>\n",
       "      <td>Permanent Full-time</td>\n",
       "      <td>Female</td>\n",
       "      <td>9.0</td>\n",
       "      <td>False</td>\n",
       "      <td>DETE</td>\n",
       "      <td>3</td>\n",
       "      <td>False</td>\n",
       "      <td>False</td>\n",
       "      <td>False</td>\n",
       "      <td>False</td>\n",
       "      <td>False</td>\n",
       "      <td>NaN</td>\n",
       "      <td>False</td>\n",
       "      <td>False</td>\n",
       "      <td>Teacher</td>\n",
       "      <td>North Queensland</td>\n",
       "      <td>False</td>\n",
       "      <td>NaN</td>\n",
       "      <td>2009.0</td>\n",
       "      <td>Resignation</td>\n",
       "      <td>NaN</td>\n",
       "      <td>False</td>\n",
       "      <td>NaN</td>\n",
       "      <td>False</td>\n",
       "      <td>False</td>\n",
       "      <td>False</td>\n",
       "      <td>False</td>\n",
       "    </tr>\n",
       "    <tr>\n",
       "      <th>3</th>\n",
       "      <td>NaN</td>\n",
       "      <td>NaN</td>\n",
       "      <td>NaN</td>\n",
       "      <td>NaN</td>\n",
       "      <td>NaN</td>\n",
       "      <td>NaN</td>\n",
       "      <td>NaN</td>\n",
       "      <td>NaN</td>\n",
       "      <td>NaN</td>\n",
       "      <td>NaN</td>\n",
       "      <td>NaN</td>\n",
       "      <td>NaN</td>\n",
       "      <td>NaN</td>\n",
       "      <td>NaN</td>\n",
       "      <td>NaN</td>\n",
       "      <td>46-50</td>\n",
       "      <td>NaN</td>\n",
       "      <td>False</td>\n",
       "      <td>False</td>\n",
       "      <td>2012.0</td>\n",
       "      <td>NaN</td>\n",
       "      <td>1997.0</td>\n",
       "      <td>NaN</td>\n",
       "      <td>True</td>\n",
       "      <td>True</td>\n",
       "      <td>False</td>\n",
       "      <td>Permanent Part-time</td>\n",
       "      <td>Female</td>\n",
       "      <td>10.0</td>\n",
       "      <td>False</td>\n",
       "      <td>DETE</td>\n",
       "      <td>15</td>\n",
       "      <td>True</td>\n",
       "      <td>True</td>\n",
       "      <td>False</td>\n",
       "      <td>False</td>\n",
       "      <td>False</td>\n",
       "      <td>NaN</td>\n",
       "      <td>False</td>\n",
       "      <td>False</td>\n",
       "      <td>Teacher Aide</td>\n",
       "      <td>NaN</td>\n",
       "      <td>False</td>\n",
       "      <td>NaN</td>\n",
       "      <td>2008.0</td>\n",
       "      <td>Resignation</td>\n",
       "      <td>NaN</td>\n",
       "      <td>False</td>\n",
       "      <td>NaN</td>\n",
       "      <td>False</td>\n",
       "      <td>False</td>\n",
       "      <td>False</td>\n",
       "      <td>False</td>\n",
       "    </tr>\n",
       "    <tr>\n",
       "      <th>4</th>\n",
       "      <td>NaN</td>\n",
       "      <td>NaN</td>\n",
       "      <td>NaN</td>\n",
       "      <td>NaN</td>\n",
       "      <td>NaN</td>\n",
       "      <td>NaN</td>\n",
       "      <td>NaN</td>\n",
       "      <td>NaN</td>\n",
       "      <td>NaN</td>\n",
       "      <td>NaN</td>\n",
       "      <td>NaN</td>\n",
       "      <td>NaN</td>\n",
       "      <td>NaN</td>\n",
       "      <td>NaN</td>\n",
       "      <td>NaN</td>\n",
       "      <td>31-35</td>\n",
       "      <td>NaN</td>\n",
       "      <td>False</td>\n",
       "      <td>False</td>\n",
       "      <td>2012.0</td>\n",
       "      <td>Secondary</td>\n",
       "      <td>2009.0</td>\n",
       "      <td>NaN</td>\n",
       "      <td>False</td>\n",
       "      <td>False</td>\n",
       "      <td>False</td>\n",
       "      <td>Permanent Full-time</td>\n",
       "      <td>Male</td>\n",
       "      <td>12.0</td>\n",
       "      <td>False</td>\n",
       "      <td>DETE</td>\n",
       "      <td>3</td>\n",
       "      <td>False</td>\n",
       "      <td>False</td>\n",
       "      <td>False</td>\n",
       "      <td>False</td>\n",
       "      <td>True</td>\n",
       "      <td>NaN</td>\n",
       "      <td>False</td>\n",
       "      <td>False</td>\n",
       "      <td>Teacher</td>\n",
       "      <td>Far North Queensland</td>\n",
       "      <td>True</td>\n",
       "      <td>NaN</td>\n",
       "      <td>2009.0</td>\n",
       "      <td>Resignation</td>\n",
       "      <td>NaN</td>\n",
       "      <td>False</td>\n",
       "      <td>NaN</td>\n",
       "      <td>False</td>\n",
       "      <td>False</td>\n",
       "      <td>False</td>\n",
       "      <td>False</td>\n",
       "    </tr>\n",
       "  </tbody>\n",
       "</table>\n",
       "</div>"
      ],
      "text/plain": [
       "  Contributing Factors. Career Move - Private Sector   \\\n",
       "0                                                NaN    \n",
       "1                                                NaN    \n",
       "2                                                NaN    \n",
       "3                                                NaN    \n",
       "4                                                NaN    \n",
       "\n",
       "  Contributing Factors. Career Move - Public Sector   \\\n",
       "0                                                NaN   \n",
       "1                                                NaN   \n",
       "2                                                NaN   \n",
       "3                                                NaN   \n",
       "4                                                NaN   \n",
       "\n",
       "  Contributing Factors. Career Move - Self-employment  \\\n",
       "0                                                NaN    \n",
       "1                                                NaN    \n",
       "2                                                NaN    \n",
       "3                                                NaN    \n",
       "4                                                NaN    \n",
       "\n",
       "  Contributing Factors. Dissatisfaction Contributing Factors. Ill Health  \\\n",
       "0                                   NaN                              NaN   \n",
       "1                                   NaN                              NaN   \n",
       "2                                   NaN                              NaN   \n",
       "3                                   NaN                              NaN   \n",
       "4                                   NaN                              NaN   \n",
       "\n",
       "  Contributing Factors. Interpersonal Conflict  \\\n",
       "0                                          NaN   \n",
       "1                                          NaN   \n",
       "2                                          NaN   \n",
       "3                                          NaN   \n",
       "4                                          NaN   \n",
       "\n",
       "  Contributing Factors. Job Dissatisfaction  \\\n",
       "0                                       NaN   \n",
       "1                                       NaN   \n",
       "2                                       NaN   \n",
       "3                                       NaN   \n",
       "4                                       NaN   \n",
       "\n",
       "  Contributing Factors. Maternity/Family Contributing Factors. NONE  \\\n",
       "0                                    NaN                        NaN   \n",
       "1                                    NaN                        NaN   \n",
       "2                                    NaN                        NaN   \n",
       "3                                    NaN                        NaN   \n",
       "4                                    NaN                        NaN   \n",
       "\n",
       "  Contributing Factors. Other Contributing Factors. Study  \\\n",
       "0                         NaN                         NaN   \n",
       "1                         NaN                         NaN   \n",
       "2                         NaN                         NaN   \n",
       "3                         NaN                         NaN   \n",
       "4                         NaN                         NaN   \n",
       "\n",
       "  Contributing Factors. Travel Institute WorkArea aboriginal    age  \\\n",
       "0                          NaN       NaN      NaN        NaN  36-40   \n",
       "1                          NaN       NaN      NaN        NaN  41-45   \n",
       "2                          NaN       NaN      NaN        NaN  31-35   \n",
       "3                          NaN       NaN      NaN        NaN  46-50   \n",
       "4                          NaN       NaN      NaN        NaN  31-35   \n",
       "\n",
       "          business_unit career_move_to_private_sector  \\\n",
       "0                   NaN                          True   \n",
       "1  Education Queensland                          True   \n",
       "2                   NaN                          True   \n",
       "3                   NaN                         False   \n",
       "4                   NaN                         False   \n",
       "\n",
       "  career_move_to_public_sector  cease_date classification  dete_start_date  \\\n",
       "0                        False      2012.0        Primary           2005.0   \n",
       "1                        False      2012.0            NaN           1994.0   \n",
       "2                        False      2012.0      Secondary           2009.0   \n",
       "3                        False      2012.0            NaN           1997.0   \n",
       "4                        False      2012.0      Secondary           2009.0   \n",
       "\n",
       "  disability dissatisfaction_with_the_department dissatisfied  \\\n",
       "0        NaN                               False        False   \n",
       "1        NaN                               False         True   \n",
       "2        NaN                               False        False   \n",
       "3        NaN                                True         True   \n",
       "4        NaN                               False        False   \n",
       "\n",
       "  employment_conditions    employment_status  gender    id ill_health  \\\n",
       "0                 False  Permanent Full-time  Female   4.0      False   \n",
       "1                  True  Permanent Full-time  Female   6.0      False   \n",
       "2                 False  Permanent Full-time  Female   9.0      False   \n",
       "3                 False  Permanent Part-time  Female  10.0      False   \n",
       "4                 False  Permanent Full-time    Male  12.0      False   \n",
       "\n",
       "  institute institute_service interpersonal_conflicts job_dissatisfaction  \\\n",
       "0      DETE                 7                   False               False   \n",
       "1      DETE                18                   False               False   \n",
       "2      DETE                 3                   False               False   \n",
       "3      DETE                15                    True                True   \n",
       "4      DETE                 3                   False               False   \n",
       "\n",
       "  lack_of_job_security lack_of_recognition maternity/family nesb  \\\n",
       "0                False               False            False  NaN   \n",
       "1                False               False             True  NaN   \n",
       "2                False               False            False  NaN   \n",
       "3                False               False            False  NaN   \n",
       "4                False               False             True  NaN   \n",
       "\n",
       "  none_of_the_above physical_work_environment          position  \\\n",
       "0             False                     False           Teacher   \n",
       "1             False                     False  Guidance Officer   \n",
       "2             False                     False           Teacher   \n",
       "3             False                     False      Teacher Aide   \n",
       "4             False                     False           Teacher   \n",
       "\n",
       "                 region relocation role_service  role_start_date  \\\n",
       "0    Central Queensland      False          NaN           2006.0   \n",
       "1        Central Office      False          NaN           1997.0   \n",
       "2      North Queensland      False          NaN           2009.0   \n",
       "3                   NaN      False          NaN           2008.0   \n",
       "4  Far North Queensland       True          NaN           2009.0   \n",
       "\n",
       "  separationtype south_sea study/travel torres_strait traumatic_incident  \\\n",
       "0    Resignation       NaN        False           NaN              False   \n",
       "1    Resignation       NaN        False           NaN              False   \n",
       "2    Resignation       NaN        False           NaN              False   \n",
       "3    Resignation       NaN        False           NaN              False   \n",
       "4    Resignation       NaN        False           NaN              False   \n",
       "\n",
       "  work_life_balance work_location workload  \n",
       "0             False         False    False  \n",
       "1             False         False    False  \n",
       "2             False         False    False  \n",
       "3             False         False    False  \n",
       "4             False         False    False  "
      ]
     },
     "execution_count": 22,
     "metadata": {},
     "output_type": "execute_result"
    }
   ],
   "source": [
    "combined = pd.concat([dete_resignations_up, tafe_resignations_up], ignore_index=True)\n",
    "\n",
    "combined.head()"
   ]
  },
  {
   "cell_type": "markdown",
   "metadata": {},
   "source": [
    "We still have some columns in the dataframe that are unnecessary for our analysis. \n",
    "\n",
    "We'll thus drop any columns with less than 500 non-null values."
   ]
  },
  {
   "cell_type": "code",
   "execution_count": 23,
   "metadata": {
    "collapsed": false
   },
   "outputs": [
    {
     "data": {
      "text/plain": [
       "institute_service    563\n",
       "gender               592\n",
       "age                  596\n",
       "employment_status    597\n",
       "position             598\n",
       "cease_date           635\n",
       "dissatisfied         643\n",
       "id                   651\n",
       "institute            651\n",
       "separationtype       651\n",
       "dtype: int64"
      ]
     },
     "execution_count": 23,
     "metadata": {},
     "output_type": "execute_result"
    }
   ],
   "source": [
    "combined_updated = combined.dropna(thresh=500, axis = 1)\n",
    "\n",
    "combined_updated.notnull().sum().sort_values()"
   ]
  },
  {
   "cell_type": "code",
   "execution_count": 24,
   "metadata": {
    "collapsed": false
   },
   "outputs": [
    {
     "data": {
      "text/html": [
       "<div>\n",
       "<style scoped>\n",
       "    .dataframe tbody tr th:only-of-type {\n",
       "        vertical-align: middle;\n",
       "    }\n",
       "\n",
       "    .dataframe tbody tr th {\n",
       "        vertical-align: top;\n",
       "    }\n",
       "\n",
       "    .dataframe thead th {\n",
       "        text-align: right;\n",
       "    }\n",
       "</style>\n",
       "<table border=\"1\" class=\"dataframe\">\n",
       "  <thead>\n",
       "    <tr style=\"text-align: right;\">\n",
       "      <th></th>\n",
       "      <th>age</th>\n",
       "      <th>cease_date</th>\n",
       "      <th>dissatisfied</th>\n",
       "      <th>employment_status</th>\n",
       "      <th>gender</th>\n",
       "      <th>id</th>\n",
       "      <th>institute</th>\n",
       "      <th>institute_service</th>\n",
       "      <th>position</th>\n",
       "      <th>separationtype</th>\n",
       "    </tr>\n",
       "  </thead>\n",
       "  <tbody>\n",
       "    <tr>\n",
       "      <th>0</th>\n",
       "      <td>36-40</td>\n",
       "      <td>2012.0</td>\n",
       "      <td>False</td>\n",
       "      <td>Permanent Full-time</td>\n",
       "      <td>Female</td>\n",
       "      <td>4.0</td>\n",
       "      <td>DETE</td>\n",
       "      <td>7</td>\n",
       "      <td>Teacher</td>\n",
       "      <td>Resignation</td>\n",
       "    </tr>\n",
       "    <tr>\n",
       "      <th>1</th>\n",
       "      <td>41-45</td>\n",
       "      <td>2012.0</td>\n",
       "      <td>True</td>\n",
       "      <td>Permanent Full-time</td>\n",
       "      <td>Female</td>\n",
       "      <td>6.0</td>\n",
       "      <td>DETE</td>\n",
       "      <td>18</td>\n",
       "      <td>Guidance Officer</td>\n",
       "      <td>Resignation</td>\n",
       "    </tr>\n",
       "    <tr>\n",
       "      <th>2</th>\n",
       "      <td>31-35</td>\n",
       "      <td>2012.0</td>\n",
       "      <td>False</td>\n",
       "      <td>Permanent Full-time</td>\n",
       "      <td>Female</td>\n",
       "      <td>9.0</td>\n",
       "      <td>DETE</td>\n",
       "      <td>3</td>\n",
       "      <td>Teacher</td>\n",
       "      <td>Resignation</td>\n",
       "    </tr>\n",
       "    <tr>\n",
       "      <th>3</th>\n",
       "      <td>46-50</td>\n",
       "      <td>2012.0</td>\n",
       "      <td>True</td>\n",
       "      <td>Permanent Part-time</td>\n",
       "      <td>Female</td>\n",
       "      <td>10.0</td>\n",
       "      <td>DETE</td>\n",
       "      <td>15</td>\n",
       "      <td>Teacher Aide</td>\n",
       "      <td>Resignation</td>\n",
       "    </tr>\n",
       "    <tr>\n",
       "      <th>4</th>\n",
       "      <td>31-35</td>\n",
       "      <td>2012.0</td>\n",
       "      <td>False</td>\n",
       "      <td>Permanent Full-time</td>\n",
       "      <td>Male</td>\n",
       "      <td>12.0</td>\n",
       "      <td>DETE</td>\n",
       "      <td>3</td>\n",
       "      <td>Teacher</td>\n",
       "      <td>Resignation</td>\n",
       "    </tr>\n",
       "  </tbody>\n",
       "</table>\n",
       "</div>"
      ],
      "text/plain": [
       "     age  cease_date dissatisfied    employment_status  gender    id  \\\n",
       "0  36-40      2012.0        False  Permanent Full-time  Female   4.0   \n",
       "1  41-45      2012.0         True  Permanent Full-time  Female   6.0   \n",
       "2  31-35      2012.0        False  Permanent Full-time  Female   9.0   \n",
       "3  46-50      2012.0         True  Permanent Part-time  Female  10.0   \n",
       "4  31-35      2012.0        False  Permanent Full-time    Male  12.0   \n",
       "\n",
       "  institute institute_service          position separationtype  \n",
       "0      DETE                 7           Teacher    Resignation  \n",
       "1      DETE                18  Guidance Officer    Resignation  \n",
       "2      DETE                 3           Teacher    Resignation  \n",
       "3      DETE                15      Teacher Aide    Resignation  \n",
       "4      DETE                 3           Teacher    Resignation  "
      ]
     },
     "execution_count": 24,
     "metadata": {},
     "output_type": "execute_result"
    }
   ],
   "source": [
    "combined_updated.head()"
   ]
  },
  {
   "cell_type": "markdown",
   "metadata": {},
   "source": [
    "## Further cleaning of `institute_service` column\n",
    "\n",
    "Right now one thing currently setting us back is that the `institute_service` column has values stored in different forms."
   ]
  },
  {
   "cell_type": "code",
   "execution_count": 25,
   "metadata": {
    "collapsed": false
   },
   "outputs": [
    {
     "data": {
      "text/plain": [
       "Less than 1 year      73\n",
       "1-2                   64\n",
       "3-4                   63\n",
       "5-6                   33\n",
       "11-20                 26\n",
       "5.0                   23\n",
       "1.0                   22\n",
       "7-10                  21\n",
       "3.0                   20\n",
       "0.0                   20\n",
       "6.0                   17\n",
       "4.0                   16\n",
       "9.0                   14\n",
       "2.0                   14\n",
       "7.0                   13\n",
       "More than 20 years    10\n",
       "13.0                   8\n",
       "8.0                    8\n",
       "20.0                   7\n",
       "15.0                   7\n",
       "14.0                   6\n",
       "17.0                   6\n",
       "12.0                   6\n",
       "10.0                   6\n",
       "22.0                   6\n",
       "18.0                   5\n",
       "16.0                   5\n",
       "24.0                   4\n",
       "23.0                   4\n",
       "11.0                   4\n",
       "39.0                   3\n",
       "19.0                   3\n",
       "21.0                   3\n",
       "32.0                   3\n",
       "36.0                   2\n",
       "25.0                   2\n",
       "26.0                   2\n",
       "28.0                   2\n",
       "30.0                   2\n",
       "42.0                   1\n",
       "35.0                   1\n",
       "49.0                   1\n",
       "34.0                   1\n",
       "38.0                   1\n",
       "33.0                   1\n",
       "29.0                   1\n",
       "27.0                   1\n",
       "41.0                   1\n",
       "31.0                   1\n",
       "Name: institute_service, dtype: int64"
      ]
     },
     "execution_count": 25,
     "metadata": {},
     "output_type": "execute_result"
    }
   ],
   "source": [
    "combined_updated['institute_service'].value_counts()"
   ]
  },
  {
   "cell_type": "markdown",
   "metadata": {},
   "source": [
    "To analyze the data, these numbers will be converted into 4 categories:\n",
    "\n",
    "- New: Less than 3 years at a company\n",
    "- Experienced: 3-6 years at a company\n",
    "- Established: 7-10 years at a company\n",
    "- Veteran: 11 or more years at a company\n"
   ]
  },
  {
   "cell_type": "code",
   "execution_count": 28,
   "metadata": {
    "collapsed": false
   },
   "outputs": [
    {
     "name": "stderr",
     "output_type": "stream",
     "text": [
      "/dataquest/system/env/python3/lib/python3.4/site-packages/ipykernel/__main__.py:2: FutureWarning: currently extract(expand=None) means expand=False (return Index/Series/DataFrame) but in a future version of pandas this will be changed to expand=True (return DataFrame)\n",
      "  from ipykernel import kernelapp as app\n",
      "/dataquest/system/env/python3/lib/python3.4/site-packages/ipykernel/__main__.py:5: SettingWithCopyWarning: \n",
      "A value is trying to be set on a copy of a slice from a DataFrame.\n",
      "Try using .loc[row_indexer,col_indexer] = value instead\n",
      "\n",
      "See the caveats in the documentation: http://pandas.pydata.org/pandas-docs/stable/indexing.html#indexing-view-versus-copy\n"
     ]
    },
    {
     "data": {
      "text/plain": [
       "1.0     159\n",
       "3.0      83\n",
       "5.0      56\n",
       "7.0      34\n",
       "11.0     30\n",
       "0.0      20\n",
       "20.0     17\n",
       "6.0      17\n",
       "4.0      16\n",
       "9.0      14\n",
       "2.0      14\n",
       "13.0      8\n",
       "8.0       8\n",
       "15.0      7\n",
       "17.0      6\n",
       "10.0      6\n",
       "12.0      6\n",
       "14.0      6\n",
       "22.0      6\n",
       "16.0      5\n",
       "18.0      5\n",
       "24.0      4\n",
       "23.0      4\n",
       "39.0      3\n",
       "19.0      3\n",
       "21.0      3\n",
       "32.0      3\n",
       "28.0      2\n",
       "36.0      2\n",
       "25.0      2\n",
       "30.0      2\n",
       "26.0      2\n",
       "29.0      1\n",
       "38.0      1\n",
       "42.0      1\n",
       "27.0      1\n",
       "41.0      1\n",
       "35.0      1\n",
       "49.0      1\n",
       "34.0      1\n",
       "33.0      1\n",
       "31.0      1\n",
       "Name: institute_service_up, dtype: int64"
      ]
     },
     "execution_count": 28,
     "metadata": {},
     "output_type": "execute_result"
    }
   ],
   "source": [
    "extracted_years = (combined_updated['institute_service']\n",
    "                  .astype(str).str.extract(r'(\\d+)')\n",
    "                  .astype('float'))\n",
    "\n",
    "combined_updated['institute_service_up'] = extracted_years\n",
    "\n",
    "combined_updated['institute_service_up'].value_counts()"
   ]
  },
  {
   "cell_type": "markdown",
   "metadata": {},
   "source": [
    "Next, we'll map each of the above values to one of the career stage definitions defined above."
   ]
  },
  {
   "cell_type": "code",
   "execution_count": 30,
   "metadata": {
    "collapsed": false
   },
   "outputs": [
    {
     "name": "stderr",
     "output_type": "stream",
     "text": [
      "/dataquest/system/env/python3/lib/python3.4/site-packages/ipykernel/__main__.py:15: SettingWithCopyWarning: \n",
      "A value is trying to be set on a copy of a slice from a DataFrame.\n",
      "Try using .loc[row_indexer,col_indexer] = value instead\n",
      "\n",
      "See the caveats in the documentation: http://pandas.pydata.org/pandas-docs/stable/indexing.html#indexing-view-versus-copy\n"
     ]
    },
    {
     "data": {
      "text/plain": [
       "New            193\n",
       "Experienced    172\n",
       "Veteran        136\n",
       "Established     62\n",
       "Name: service_cat, dtype: int64"
      ]
     },
     "execution_count": 30,
     "metadata": {},
     "output_type": "execute_result"
    }
   ],
   "source": [
    "def career_stage(element):\n",
    "    if element < 3:\n",
    "        return 'New'\n",
    "    elif 3 <= element < 7:\n",
    "        return 'Experienced'\n",
    "    elif 7 <= element < 11:\n",
    "        return 'Established'\n",
    "    elif pd.isnull(element):\n",
    "        return np.nan\n",
    "    else:\n",
    "        return 'Veteran'\n",
    "    \n",
    "# Apply this function to `institute_service_up` and store the results in `service_cat`.\n",
    "\n",
    "combined_updated['service_cat'] = combined_updated['institute_service_up'].apply(career_stage)\n",
    "\n",
    "combined_updated['service_cat'].value_counts()"
   ]
  },
  {
   "cell_type": "markdown",
   "metadata": {},
   "source": [
    "## Analysis\n",
    "\n",
    "Now that we've created a `service_cat` column that describes an employee's duration of employment in a uniform fashion, we can begin the analysis.\n",
    "\n"
   ]
  },
  {
   "cell_type": "code",
   "execution_count": 31,
   "metadata": {
    "collapsed": false
   },
   "outputs": [
    {
     "data": {
      "text/plain": [
       "False    403\n",
       "True     240\n",
       "NaN        8\n",
       "Name: dissatisfied, dtype: int64"
      ]
     },
     "execution_count": 31,
     "metadata": {},
     "output_type": "execute_result"
    }
   ],
   "source": [
    "combined_updated['dissatisfied'].value_counts(dropna=False)"
   ]
  },
  {
   "cell_type": "markdown",
   "metadata": {},
   "source": [
    "Since the most common value is `False`, the missing values will thus be replaced with `False`."
   ]
  },
  {
   "cell_type": "code",
   "execution_count": 32,
   "metadata": {
    "collapsed": false
   },
   "outputs": [
    {
     "name": "stderr",
     "output_type": "stream",
     "text": [
      "/dataquest/system/env/python3/lib/python3.4/site-packages/ipykernel/__main__.py:1: SettingWithCopyWarning: \n",
      "A value is trying to be set on a copy of a slice from a DataFrame.\n",
      "Try using .loc[row_indexer,col_indexer] = value instead\n",
      "\n",
      "See the caveats in the documentation: http://pandas.pydata.org/pandas-docs/stable/indexing.html#indexing-view-versus-copy\n",
      "  if __name__ == '__main__':\n"
     ]
    }
   ],
   "source": [
    "combined_updated['dissatisfied'] = combined_updated['dissatisfied'].fillna(False)"
   ]
  },
  {
   "cell_type": "markdown",
   "metadata": {},
   "source": [
    "### Gauging Employee Dissatisfaction by Career Stage"
   ]
  },
  {
   "cell_type": "code",
   "execution_count": 45,
   "metadata": {
    "collapsed": false
   },
   "outputs": [
    {
     "data": {
      "text/html": [
       "<div>\n",
       "<style scoped>\n",
       "    .dataframe tbody tr th:only-of-type {\n",
       "        vertical-align: middle;\n",
       "    }\n",
       "\n",
       "    .dataframe tbody tr th {\n",
       "        vertical-align: top;\n",
       "    }\n",
       "\n",
       "    .dataframe thead th {\n",
       "        text-align: right;\n",
       "    }\n",
       "</style>\n",
       "<table border=\"1\" class=\"dataframe\">\n",
       "  <thead>\n",
       "    <tr style=\"text-align: right;\">\n",
       "      <th></th>\n",
       "      <th>dissatisfied</th>\n",
       "    </tr>\n",
       "    <tr>\n",
       "      <th>service_cat</th>\n",
       "      <th></th>\n",
       "    </tr>\n",
       "  </thead>\n",
       "  <tbody>\n",
       "    <tr>\n",
       "      <th>New</th>\n",
       "      <td>0.295337</td>\n",
       "    </tr>\n",
       "    <tr>\n",
       "      <th>Experienced</th>\n",
       "      <td>0.343023</td>\n",
       "    </tr>\n",
       "    <tr>\n",
       "      <th>Veteran</th>\n",
       "      <td>0.485294</td>\n",
       "    </tr>\n",
       "    <tr>\n",
       "      <th>Established</th>\n",
       "      <td>0.516129</td>\n",
       "    </tr>\n",
       "  </tbody>\n",
       "</table>\n",
       "</div>"
      ],
      "text/plain": [
       "             dissatisfied\n",
       "service_cat              \n",
       "New              0.295337\n",
       "Experienced      0.343023\n",
       "Veteran          0.485294\n",
       "Established      0.516129"
      ]
     },
     "execution_count": 45,
     "metadata": {},
     "output_type": "execute_result"
    }
   ],
   "source": [
    "dissatisfied_pivot = combined_updated.pivot_table(index='service_cat', values='dissatisfied')\n",
    "\n",
    "# Sorting the dissatisfaction average in ascending order:\n",
    "dissatisfied_pivot = dissatisfied_pivot.sort_values('dissatisfied')\n",
    "\n",
    "dissatisfied_pivot"
   ]
  },
  {
   "cell_type": "markdown",
   "metadata": {},
   "source": [
    "We'll plot the above pivot table into a bar chart."
   ]
  },
  {
   "cell_type": "code",
   "execution_count": 43,
   "metadata": {
    "collapsed": false
   },
   "outputs": [
    {
     "data": {
      "text/plain": [
       "<matplotlib.axes._subplots.AxesSubplot at 0x7f261e307208>"
      ]
     },
     "execution_count": 43,
     "metadata": {},
     "output_type": "execute_result"
    },
    {
     "data": {
      "image/png": "[encoded data removed]",
      "text/plain": [
       "<matplotlib.figure.Figure at 0x7f261e2e6e10>"
      ]
     },
     "metadata": {},
     "output_type": "display_data"
    }
   ],
   "source": [
    "%matplotlib inline\n",
    "\n",
    "dissatisfied_pivot.plot(kind='bar', rot =0)"
   ]
  },
  {
   "cell_type": "markdown",
   "metadata": {},
   "source": [
    "The graph above suggests that the longer an employee works, the more likely they are to resign citing dissatisfaction with something. \n",
    "\n",
    "Employees with less than 3 years of work experience cite dissatisfaction only 30% of the time when resigning, while those who worked 4-7 years cited dissatisfaction 35% of the time. \n",
    "\n",
    "In contrast, those with 7 years or more of work experience reported being dissatisfied about 50% of the time when they resigned."
   ]
  },
  {
   "cell_type": "markdown",
   "metadata": {},
   "source": [
    "### Employee Dissatisfaction by Age\n",
    "\n",
    "We'll go about attempting to answer the question of whether younger or older employees are more likely to cite dissatisfaction as a reason for leaving. \n",
    "\n",
    "First, the `Age` column will have to be cleaned."
   ]
  },
  {
   "cell_type": "code",
   "execution_count": 48,
   "metadata": {
    "collapsed": false
   },
   "outputs": [
    {
     "data": {
      "text/plain": [
       "51-55            71\n",
       "NaN              55\n",
       "41-45            48\n",
       "41  45           45\n",
       "46-50            42\n",
       "36-40            41\n",
       "46  50           39\n",
       "26-30            35\n",
       "21  25           33\n",
       "31  35           32\n",
       "26  30           32\n",
       "36  40           32\n",
       "31-35            29\n",
       "56 or older      29\n",
       "21-25            29\n",
       "56-60            26\n",
       "61 or older      23\n",
       "20 or younger    10\n",
       "Name: age, dtype: int64"
      ]
     },
     "execution_count": 48,
     "metadata": {},
     "output_type": "execute_result"
    }
   ],
   "source": [
    "combined_updated['age'].value_counts(dropna = False)"
   ]
  },
  {
   "cell_type": "code",
   "execution_count": 54,
   "metadata": {
    "collapsed": false
   },
   "outputs": [
    {
     "name": "stderr",
     "output_type": "stream",
     "text": [
      "/dataquest/system/env/python3/lib/python3.4/site-packages/ipykernel/__main__.py:2: FutureWarning: currently extract(expand=None) means expand=False (return Index/Series/DataFrame) but in a future version of pandas this will be changed to expand=True (return DataFrame)\n",
      "  from ipykernel import kernelapp as app\n",
      "/dataquest/system/env/python3/lib/python3.4/site-packages/ipykernel/__main__.py:5: SettingWithCopyWarning: \n",
      "A value is trying to be set on a copy of a slice from a DataFrame.\n",
      "Try using .loc[row_indexer,col_indexer] = value instead\n",
      "\n",
      "See the caveats in the documentation: http://pandas.pydata.org/pandas-docs/stable/indexing.html#indexing-view-versus-copy\n"
     ]
    },
    {
     "data": {
      "text/plain": [
       "41.0    93\n",
       "46.0    81\n",
       "36.0    73\n",
       "51.0    71\n",
       "26.0    67\n",
       "21.0    62\n",
       "31.0    61\n",
       "56.0    55\n",
       "61.0    23\n",
       "20.0    10\n",
       "Name: age, dtype: int64"
      ]
     },
     "execution_count": 54,
     "metadata": {},
     "output_type": "execute_result"
    }
   ],
   "source": [
    "extracted_age = (combined_updated['age']\n",
    "                  .astype(str).str.extract(r'(\\d+)')\n",
    "                  .astype('float'))\n",
    "\n",
    "combined_updated['age'] = extracted_age\n",
    "extracted_age.value_counts(dropna = True)"
   ]
  },
  {
   "cell_type": "markdown",
   "metadata": {},
   "source": [
    "In a similar vein as the categorizing of career stage that was done before, we'll define a function that maps out a person's age into age groups:\n",
    "\n",
    "- 21 or less\n",
    "- 21-25\n",
    "- 26-30\n",
    "- 31-35\n",
    "- 36-40\n",
    "- 41-50\n",
    "- 51-60\n",
    "- Above 60\n",
    "\n",
    "Since the missing values here can't be filled to a specific value (since they would skew that age category a lot), they will simply be ignored. A significant amount of data is not being lost as the missing age values only make up about 10% of the total amount of values."
   ]
  },
  {
   "cell_type": "code",
   "execution_count": 65,
   "metadata": {
    "collapsed": false
   },
   "outputs": [
    {
     "name": "stdout",
     "output_type": "stream",
     "text": [
      "Above 61      159\n",
      "51-60         126\n",
      "41-50          93\n",
      "36-40          73\n",
      "26-30          67\n",
      "21-25          62\n",
      "31-35          61\n",
      "21 or less     10\n",
      "Name: age_category, dtype: int64\n",
      "              dissatisfied\n",
      "age_category              \n",
      "21 or less        0.200000\n",
      "21-25             0.306452\n",
      "26-30             0.417910\n",
      "31-35             0.377049\n",
      "36-40             0.342466\n",
      "41-50             0.376344\n",
      "51-60             0.404762\n",
      "Above 61          0.358491\n"
     ]
    },
    {
     "name": "stderr",
     "output_type": "stream",
     "text": [
      "/dataquest/system/env/python3/lib/python3.4/site-packages/ipykernel/__main__.py:19: SettingWithCopyWarning: \n",
      "A value is trying to be set on a copy of a slice from a DataFrame.\n",
      "Try using .loc[row_indexer,col_indexer] = value instead\n",
      "\n",
      "See the caveats in the documentation: http://pandas.pydata.org/pandas-docs/stable/indexing.html#indexing-view-versus-copy\n"
     ]
    }
   ],
   "source": [
    "def age_categories(element):\n",
    "    if element < 21:\n",
    "        return '21 or less'\n",
    "    elif 21 <= element < 25:\n",
    "        return '21-25'\n",
    "    elif 25 <= element < 30:\n",
    "        return '26-30'\n",
    "    elif 30 <= element < 35:\n",
    "        return '31-35'\n",
    "    elif 35 <= element < 40:\n",
    "        return '36-40'\n",
    "    elif 40 <= element < 45:\n",
    "        return '41-50'\n",
    "    elif 50 <= element < 60:\n",
    "        return '51-60'\n",
    "    else:\n",
    "        return 'Above 61'\n",
    "    \n",
    "combined_updated['age_category'] = combined_updated['age'].apply(age_categories)\n",
    "\n",
    "print(combined_updated['age_category'].value_counts())\n",
    "\n",
    "dissatisfied_age = combined_updated.pivot_table(index='age_category', values='dissatisfied')\n",
    "\n",
    "dissatisfied_age = dissatisfied_age.sort_index()\n",
    "\n",
    "print(dissatisfied_age)"
   ]
  },
  {
   "cell_type": "code",
   "execution_count": 62,
   "metadata": {
    "collapsed": false
   },
   "outputs": [
    {
     "data": {
      "text/plain": [
       "<matplotlib.axes._subplots.AxesSubplot at 0x7f261df1d7b8>"
      ]
     },
     "execution_count": 62,
     "metadata": {},
     "output_type": "execute_result"
    },
    {
     "data": {
      "image/png": "[encoded data removed]",
      "text/plain": [
       "<matplotlib.figure.Figure at 0x7f261df283c8>"
      ]
     },
     "metadata": {},
     "output_type": "display_data"
    }
   ],
   "source": [
    "dissatisfied_age.plot(kind='bar', rot =0)"
   ]
  },
  {
   "cell_type": "markdown",
   "metadata": {},
   "source": [
    "The overall trend observed based on Age groups here is somewhat similar to the outcome observed with Career Stages from above.\n",
    "\n",
    "In general, older employees seem to be more likely to resign reporting dissatisfaction. This trend is fairly consistent across all age groups, apart from the 26-30 and 31-35 age groups."
   ]
  },
  {
   "cell_type": "markdown",
   "metadata": {},
   "source": [
    "### Employee Dissatisfaction by Institute\n",
    "\n",
    "It's worth attempting to figure out whether the difference in dissatisfaction rates between the two initial datasets, `tafe_survey` and `dete_survey` is significant. \n",
    "\n",
    "Since we already have an `institute` column, this will be very straightforward to figure out."
   ]
  },
  {
   "cell_type": "code",
   "execution_count": 68,
   "metadata": {
    "collapsed": false
   },
   "outputs": [
    {
     "data": {
      "text/plain": [
       "<matplotlib.axes._subplots.AxesSubplot at 0x7f261df28f60>"
      ]
     },
     "execution_count": 68,
     "metadata": {},
     "output_type": "execute_result"
    },
    {
     "data": {
      "image/png": "[encoded data removed]",
      "text/plain": [
       "<matplotlib.figure.Figure at 0x7f261def9eb8>"
      ]
     },
     "metadata": {},
     "output_type": "display_data"
    }
   ],
   "source": [
    "dissatisfied_institute = (combined_updated.\n",
    "                          pivot_table(index='institute',\n",
    "                                      values = 'dissatisfied'))\n",
    "\n",
    "dissatisfied_institute.plot(kind='bar')"
   ]
  },
  {
   "cell_type": "markdown",
   "metadata": {},
   "source": [
    "We notice that, at first glance, there appears to be a remarkable difference in the repored dissatisfaction rates of employees from the DETE and the TAFE firms.\n",
    "\n",
    "However, there is a very easy explanation for this discrepancy.\n",
    "\n",
    "Recall that there were several more columns from the dete survey forms that corresponded to employee dissatisfaction. The columns we used to measure dissatisfaction from each dataset were the following:\n",
    "\n",
    "tafe_resignations:\n",
    "- `Contributing Factors. Dissatisfaction`\n",
    "- `Contributing Factors. Job Dissatisfaction`\n",
    "\n",
    "dete_resignations:\n",
    "- `job_dissatisfaction`\n",
    "- `dissatisfaction_with_the_department`\n",
    "- `physical_work_environment`\n",
    "- `lack_of_recognition`\n",
    "- `lack_of_job_security`\n",
    "- `work_location`\n",
    "- `employment_conditions`\n",
    "- `work_life_balance`\n",
    "- `workload`\n",
    "\n",
    "The observed increased dissatisfaction results in the DETE survey results could simply be explained by the fact that there were more options to choose from that represented dissatisfaction."
   ]
  },
  {
   "cell_type": "markdown",
   "metadata": {},
   "source": [
    "## Conclusion\n",
    "\n",
    "To conclude, we can fairly conclusively say that employees who've been at an institute longer are by far more likely to resign citing dissatisfaction.\n",
    "\n",
    "This trend is also somewhat reflected by age group, with older employees being more likely to report dissatisfaction. It should be noted that employees in the 26-35 age groups don't fit this trend, as they have some of the highest dissatisfaction rates. \n",
    "\n",
    "While it might also ostensibly appear like employees of the DETE institute might be more likely to resign reporting dissatisfaction, that trend seems much better explained by the fact that there were simply more survey answers that corresponded to a 'dissatisfied' outcome in the results of the DETE survey. This unequalness in the way the survey results of both institutes were handled is one limitation that was observed in this project. \n",
    "\n",
    "Another notable limitation is that dissatisfaction results were merely handled as a binary 'dissatisfied' or 'not dissatisfied', as opposed to, for instance, having employees rate their dissatisfaction on a scale of 1-10. The latter might have reflected employee sentiment more accurately, as it represents a spectrum of satisfaction that tends to correspond better to a person's actual feelings."
   ]
  }
 ],
 "metadata": {
  "kernelspec": {
   "display_name": "Python 3",
   "language": "python",
   "name": "python3"
  },
  "language_info": {
   "codemirror_mode": {
    "name": "ipython",
    "version": 3
   },
   "file_extension": ".py",
   "mimetype": "text/x-python",
   "name": "python",
   "nbconvert_exporter": "python",
   "pygments_lexer": "ipython3",
   "version": "3.4.3"
  }
 },
 "nbformat": 4,
 "nbformat_minor": 2
}
